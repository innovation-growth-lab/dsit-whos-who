{
 "cells": [
  {
   "cell_type": "raw",
   "metadata": {
    "vscode": {
     "languageId": "raw"
    }
   },
   "source": [
    "---\n",
    "title: \"Who's Who Handover Guide\"\n",
    "author: \"David Ampudia Vicente\"\n",
    "date: \"2024-04-08\"\n",
    "format:\n",
    "  html:\n",
    "    code-fold: false\n",
    "    toc: true\n",
    "    toc-depth: 3\n",
    "execute:\n",
    "  warning: false\n",
    "---"
   ]
  },
  {
   "cell_type": "code",
   "execution_count": 1,
   "metadata": {},
   "outputs": [
    {
     "name": "stderr",
     "output_type": "stream",
     "text": [
      "/home/dampudia/miniconda3/envs/.dsit_whoswho/lib/python3.13/site-packages/tqdm/auto.py:21: TqdmWarning: IProgress not found. Please update jupyter and ipywidgets. See https://ipywidgets.readthedocs.io/en/stable/user_install.html\n",
      "  from .autonotebook import tqdm as notebook_tqdm\n"
     ]
    }
   ],
   "source": [
    "#| output: false\n",
    "#| code-fold: true\n",
    "import requests\n",
    "import json\n",
    "\n",
    "import matplotlib.pyplot as plt\n",
    "import networkx as nx\n",
    "import pandas as pd\n",
    "\n",
    "import torch\n",
    "from sentence_transformers import SentenceTransformer\n",
    "from transformers import pipeline as transformers_pipeline\n",
    "\n",
    "import contextlib\n",
    "import warnings\n",
    "warnings.filterwarnings(\"ignore\")\n",
    "\n",
    "pd.set_option('display.max_colwidth', 160)"
   ]
  },
  {
   "cell_type": "markdown",
   "metadata": {},
   "source": [
    "# Introduction\n",
    "\n",
    "This guide provides a comprehensive overview of the **Who's Who in UK Research** data pipeline. The project aims to link person data from the UKRI Gateway to Research (GtR) and OpenAlex to identify matching researchers and track activity and impact at the individual level.\n",
    "\n",
    "![DSIT Taxonomy System Architecture](handover_notebook_files/dsit-whos-who-diagram.svg){width=100% fig-align=\"center\"}\n",
    "\n",
    "### Key Components\n",
    "\n",
    "The system is built using Kedro and consists of five core pipelines:\n",
    "\n",
    "1.  **Gateway to Research (GtR) Data Collection**: Fetches project, funding, and researcher data from the GtR API.\n",
    "2.  **OpenAlex Data Collection**: Enriches GtR data with publication, citation, and affiliation information from OpenAlex.\n",
    "3.  **Author Disambiguation**: Matches GtR researchers to their OpenAlex profiles using a machine learning approach.\n",
    "4.  **Basic Metrics Analysis**: Calculates fundamental bibliometric and career indicators.\n",
    "5.  **Complex Metrics Analysis**: Computes research disruption and discipline diversity metrics.\n",
    "\n",
    "\n",
    "### Current performance \n",
    "\n",
    "#### Overall coverage statistics\n",
    "| Metric | Value |\n",
    "|--------|--------|\n",
    "| Total GtR persons | 140,245 |\n",
    "| Matchable persons (at least one name candidate) | 126,304 |\n",
    "| Matched persons | 85,444 |\n",
    "| Overall coverage rate | 60.9% |\n",
    "| Coverage of matchable persons | 67.6% |\n",
    "| Coverage of active researchers (with projects) | 68.4% |\n",
    "\n",
    "#### Coverage by grant category\n",
    "\n",
    "| Category | Coverage Rate | Matches/Total |\n",
    "|----------|--------------|---------------|\n",
    "| Fellowship | 82.9% | 7,710/9,303 |\n",
    "| Research and Innovation | 82.8% | 3,339/4,034 | \n",
    "| Intramural | 82.8% | 1,330/1,606 |\n",
    "| Institute Project | 79.0% | 595/753 |\n",
    "| Research Grant | 79.0% | 55,881/70,748 |\n",
    "| Training Grant | 70.7% | 5,285/7,477 |\n",
    "| Studentship | 56.3% | 33,829/60,074 |\n",
    "| EU-Funded | 47.9% | 1,062/2,218 |\n",
    "| Collaborative R&D | 13.7% | 1,088/7,921 |\n",
    "| Feasibility Studies | 15.1% | 556/3,689 |\n",
    "| Small Business Research Initiative | 16.9% | 136/805 |\n",
    "\n",
    "---\n",
    "\n",
    "This guide will walk through each component, demonstrating how to:\n",
    "\n",
    "1.  Understand the data collection processes.\n",
    "2.  Interpret the author disambiguation results.\n",
    "3.  Generate and understand basic and complex metrics.\n",
    "4.  Utilise the final combined dataset."
   ]
  },
  {
   "cell_type": "markdown",
   "metadata": {},
   "source": [
    "\n",
    "## Setup\n",
    "\n",
    "We begin by setting up our Kedro environment. While Kedro pipelines are typically run through the command line interface (CLI), we can also interact with them in notebooks using the `kedro.ipython` extension. This is particularly useful for exploration and debugging.\n",
    "\n",
    "When running through CLI, [OmegaConf](https://omegaconf.readthedocs.io/en/2.3_branch/) automatically loads [configuration](https://docs.kedro.org/en/stable/configuration/configuration_basics.html) from:\n",
    "\n",
    "- `conf/base/catalog.yml`: Data catalog definitions\n",
    "- `conf/base/parameters.yml`: Pipeline parameters  \n",
    "- `conf/local/credentials.yml`: API keys and credentials\n",
    "- `conf/base/settings.yml`: Project settings\n",
    "- Registered hooks in `src/hooks.py` (none in this project)\n",
    "\n",
    "In notebooks, we need to explicitly load these using the IPython magic commands below.\n",
    "See the [Kedro documentation](https://docs.kedro.org/en/stable/notebooks_and_ipython/kedro_and_notebooks.html) for more details."
   ]
  },
  {
   "cell_type": "code",
   "execution_count": 2,
   "metadata": {},
   "outputs": [
    {
     "data": {
      "text/html": [
       "<pre style=\"white-space:pre;overflow-x:auto;line-height:normal;font-family:Menlo,'DejaVu Sans Mono',consolas,'Courier New',monospace\"><span style=\"color: #7fbfbf; text-decoration-color: #7fbfbf\">[04/10/25 09:47:52] </span><span style=\"color: #000080; text-decoration-color: #000080\">INFO    </span> Using                                                                  <a href=\"file:///home/dampudia/miniconda3/envs/.dsit_whoswho/lib/python3.13/site-packages/kedro/framework/project/__init__.py\" target=\"_blank\"><span style=\"color: #7f7f7f; text-decoration-color: #7f7f7f\">__init__.py</span></a><span style=\"color: #7f7f7f; text-decoration-color: #7f7f7f\">:</span><a href=\"file:///home/dampudia/miniconda3/envs/.dsit_whoswho/lib/python3.13/site-packages/kedro/framework/project/__init__.py#270\" target=\"_blank\"><span style=\"color: #7f7f7f; text-decoration-color: #7f7f7f\">270</span></a>\n",
       "<span style=\"color: #7fbfbf; text-decoration-color: #7fbfbf\">                    </span>         <span style=\"color: #008000; text-decoration-color: #008000\">'/home/dampudia/miniconda3/envs/.dsit_whoswho/lib/python3.13/site-pack</span> <span style=\"color: #7f7f7f; text-decoration-color: #7f7f7f\">               </span>\n",
       "<span style=\"color: #7fbfbf; text-decoration-color: #7fbfbf\">                    </span>         <span style=\"color: #008000; text-decoration-color: #008000\">ages/kedro/framework/project/rich_logging.yml'</span> as logging              <span style=\"color: #7f7f7f; text-decoration-color: #7f7f7f\">               </span>\n",
       "<span style=\"color: #7fbfbf; text-decoration-color: #7fbfbf\">                    </span>         configuration.                                                         <span style=\"color: #7f7f7f; text-decoration-color: #7f7f7f\">               </span>\n",
       "</pre>\n"
      ],
      "text/plain": [
       "\u001b[2;36m[04/10/25 09:47:52]\u001b[0m\u001b[2;36m \u001b[0m\u001b[34mINFO    \u001b[0m Using                                                                  \u001b]8;id=909414;file:///home/dampudia/miniconda3/envs/.dsit_whoswho/lib/python3.13/site-packages/kedro/framework/project/__init__.py\u001b\\\u001b[2m__init__.py\u001b[0m\u001b]8;;\u001b\\\u001b[2m:\u001b[0m\u001b]8;id=671927;file:///home/dampudia/miniconda3/envs/.dsit_whoswho/lib/python3.13/site-packages/kedro/framework/project/__init__.py#270\u001b\\\u001b[2m270\u001b[0m\u001b]8;;\u001b\\\n",
       "\u001b[2;36m                    \u001b[0m         \u001b[32m'/home/dampudia/miniconda3/envs/.dsit_whoswho/lib/python3.13/site-pack\u001b[0m \u001b[2m               \u001b[0m\n",
       "\u001b[2;36m                    \u001b[0m         \u001b[32mages/kedro/framework/project/rich_logging.yml'\u001b[0m as logging              \u001b[2m               \u001b[0m\n",
       "\u001b[2;36m                    \u001b[0m         configuration.                                                         \u001b[2m               \u001b[0m\n"
      ]
     },
     "metadata": {},
     "output_type": "display_data"
    },
    {
     "data": {
      "text/html": [
       "<pre style=\"white-space:pre;overflow-x:auto;line-height:normal;font-family:Menlo,'DejaVu Sans Mono',consolas,'Courier New',monospace\"><span style=\"color: #7fbfbf; text-decoration-color: #7fbfbf\">[04/10/25 09:47:53] </span><span style=\"color: #000080; text-decoration-color: #000080\">INFO    </span> Registered line magic <span style=\"color: #008000; text-decoration-color: #008000\">'%reload_kedro'</span>                                   <a href=\"file:///home/dampudia/miniconda3/envs/.dsit_whoswho/lib/python3.13/site-packages/kedro/ipython/__init__.py\" target=\"_blank\"><span style=\"color: #7f7f7f; text-decoration-color: #7f7f7f\">__init__.py</span></a><span style=\"color: #7f7f7f; text-decoration-color: #7f7f7f\">:</span><a href=\"file:///home/dampudia/miniconda3/envs/.dsit_whoswho/lib/python3.13/site-packages/kedro/ipython/__init__.py#63\" target=\"_blank\"><span style=\"color: #7f7f7f; text-decoration-color: #7f7f7f\">63</span></a>\n",
       "</pre>\n"
      ],
      "text/plain": [
       "\u001b[2;36m[04/10/25 09:47:53]\u001b[0m\u001b[2;36m \u001b[0m\u001b[34mINFO    \u001b[0m Registered line magic \u001b[32m'%reload_kedro'\u001b[0m                                   \u001b]8;id=398211;file:///home/dampudia/miniconda3/envs/.dsit_whoswho/lib/python3.13/site-packages/kedro/ipython/__init__.py\u001b\\\u001b[2m__init__.py\u001b[0m\u001b]8;;\u001b\\\u001b[2m:\u001b[0m\u001b]8;id=782662;file:///home/dampudia/miniconda3/envs/.dsit_whoswho/lib/python3.13/site-packages/kedro/ipython/__init__.py#63\u001b\\\u001b[2m63\u001b[0m\u001b]8;;\u001b\\\n"
      ]
     },
     "metadata": {},
     "output_type": "display_data"
    },
    {
     "data": {
      "text/html": [
       "<pre style=\"white-space:pre;overflow-x:auto;line-height:normal;font-family:Menlo,'DejaVu Sans Mono',consolas,'Courier New',monospace\"><span style=\"color: #7fbfbf; text-decoration-color: #7fbfbf\">                    </span><span style=\"color: #000080; text-decoration-color: #000080\">INFO    </span> Registered line magic <span style=\"color: #008000; text-decoration-color: #008000\">'%load_node'</span>                                      <a href=\"file:///home/dampudia/miniconda3/envs/.dsit_whoswho/lib/python3.13/site-packages/kedro/ipython/__init__.py\" target=\"_blank\"><span style=\"color: #7f7f7f; text-decoration-color: #7f7f7f\">__init__.py</span></a><span style=\"color: #7f7f7f; text-decoration-color: #7f7f7f\">:</span><a href=\"file:///home/dampudia/miniconda3/envs/.dsit_whoswho/lib/python3.13/site-packages/kedro/ipython/__init__.py#65\" target=\"_blank\"><span style=\"color: #7f7f7f; text-decoration-color: #7f7f7f\">65</span></a>\n",
       "</pre>\n"
      ],
      "text/plain": [
       "\u001b[2;36m                   \u001b[0m\u001b[2;36m \u001b[0m\u001b[34mINFO    \u001b[0m Registered line magic \u001b[32m'%load_node'\u001b[0m                                      \u001b]8;id=355183;file:///home/dampudia/miniconda3/envs/.dsit_whoswho/lib/python3.13/site-packages/kedro/ipython/__init__.py\u001b\\\u001b[2m__init__.py\u001b[0m\u001b]8;;\u001b\\\u001b[2m:\u001b[0m\u001b]8;id=688813;file:///home/dampudia/miniconda3/envs/.dsit_whoswho/lib/python3.13/site-packages/kedro/ipython/__init__.py#65\u001b\\\u001b[2m65\u001b[0m\u001b]8;;\u001b\\\n"
      ]
     },
     "metadata": {},
     "output_type": "display_data"
    },
    {
     "data": {
      "text/html": [
       "<pre style=\"white-space:pre;overflow-x:auto;line-height:normal;font-family:Menlo,'DejaVu Sans Mono',consolas,'Courier New',monospace\"><span style=\"color: #7fbfbf; text-decoration-color: #7fbfbf\">                    </span><span style=\"color: #000080; text-decoration-color: #000080\">INFO    </span> Resolved project path as: <span style=\"color: #800080; text-decoration-color: #800080\">/home/dampudia/projects/</span><span style=\"color: #ff00ff; text-decoration-color: #ff00ff\">dsit-whos-who.</span>       <a href=\"file:///home/dampudia/miniconda3/envs/.dsit_whoswho/lib/python3.13/site-packages/kedro/ipython/__init__.py\" target=\"_blank\"><span style=\"color: #7f7f7f; text-decoration-color: #7f7f7f\">__init__.py</span></a><span style=\"color: #7f7f7f; text-decoration-color: #7f7f7f\">:</span><a href=\"file:///home/dampudia/miniconda3/envs/.dsit_whoswho/lib/python3.13/site-packages/kedro/ipython/__init__.py#180\" target=\"_blank\"><span style=\"color: #7f7f7f; text-decoration-color: #7f7f7f\">180</span></a>\n",
       "<span style=\"color: #7fbfbf; text-decoration-color: #7fbfbf\">                    </span>         To set a different path, run <span style=\"color: #008000; text-decoration-color: #008000\">'%reload_kedro &lt;project_root&gt;'</span>            <span style=\"color: #7f7f7f; text-decoration-color: #7f7f7f\">               </span>\n",
       "</pre>\n"
      ],
      "text/plain": [
       "\u001b[2;36m                   \u001b[0m\u001b[2;36m \u001b[0m\u001b[34mINFO    \u001b[0m Resolved project path as: \u001b[35m/home/dampudia/projects/\u001b[0m\u001b[95mdsit-whos-who.\u001b[0m       \u001b]8;id=215985;file:///home/dampudia/miniconda3/envs/.dsit_whoswho/lib/python3.13/site-packages/kedro/ipython/__init__.py\u001b\\\u001b[2m__init__.py\u001b[0m\u001b]8;;\u001b\\\u001b[2m:\u001b[0m\u001b]8;id=236877;file:///home/dampudia/miniconda3/envs/.dsit_whoswho/lib/python3.13/site-packages/kedro/ipython/__init__.py#180\u001b\\\u001b[2m180\u001b[0m\u001b]8;;\u001b\\\n",
       "\u001b[2;36m                    \u001b[0m         To set a different path, run \u001b[32m'%reload_kedro \u001b[0m\u001b[32m<\u001b[0m\u001b[32mproject_root\u001b[0m\u001b[32m>\u001b[0m\u001b[32m'\u001b[0m            \u001b[2m               \u001b[0m\n"
      ]
     },
     "metadata": {},
     "output_type": "display_data"
    },
    {
     "data": {
      "text/html": [
       "<pre style=\"white-space:pre;overflow-x:auto;line-height:normal;font-family:Menlo,'DejaVu Sans Mono',consolas,'Courier New',monospace\"><span style=\"color: #7fbfbf; text-decoration-color: #7fbfbf\">[04/10/25 09:47:57] </span><span style=\"color: #808000; text-decoration-color: #808000\">WARNING </span> <span style=\"color: #800080; text-decoration-color: #800080\">/home/dampudia/miniconda3/envs/.dsit_whoswho/lib/python3.13/site-packa</span> <a href=\"file:///home/dampudia/miniconda3/envs/.dsit_whoswho/lib/python3.13/warnings.py\" target=\"_blank\"><span style=\"color: #7f7f7f; text-decoration-color: #7f7f7f\">warnings.py</span></a><span style=\"color: #7f7f7f; text-decoration-color: #7f7f7f\">:</span><a href=\"file:///home/dampudia/miniconda3/envs/.dsit_whoswho/lib/python3.13/warnings.py#110\" target=\"_blank\"><span style=\"color: #7f7f7f; text-decoration-color: #7f7f7f\">110</span></a>\n",
       "<span style=\"color: #7fbfbf; text-decoration-color: #7fbfbf\">                    </span>         <span style=\"color: #800080; text-decoration-color: #800080\">ges/mlflow/pyfunc/utils/</span><span style=\"color: #ff00ff; text-decoration-color: #ff00ff\">data_validation.py</span>:<span style=\"color: #008080; text-decoration-color: #008080; font-weight: bold\">168</span>: UserWarning: \u001b<span style=\"font-weight: bold\">[</span>33mAdd   <span style=\"color: #7f7f7f; text-decoration-color: #7f7f7f\">               </span>\n",
       "<span style=\"color: #7fbfbf; text-decoration-color: #7fbfbf\">                    </span>         type hints to the `predict` method to enable data validation and       <span style=\"color: #7f7f7f; text-decoration-color: #7f7f7f\">               </span>\n",
       "<span style=\"color: #7fbfbf; text-decoration-color: #7fbfbf\">                    </span>         automatic signature inference during model logging. Check              <span style=\"color: #7f7f7f; text-decoration-color: #7f7f7f\">               </span>\n",
       "<span style=\"color: #7fbfbf; text-decoration-color: #7fbfbf\">                    </span>         <span style=\"color: #0000ff; text-decoration-color: #0000ff; text-decoration: underline\">https://mlflow.org/docs/latest/model/python_model.html#type-hint-usage</span> <span style=\"color: #7f7f7f; text-decoration-color: #7f7f7f\">               </span>\n",
       "<span style=\"color: #7fbfbf; text-decoration-color: #7fbfbf\">                    </span>         <span style=\"color: #0000ff; text-decoration-color: #0000ff; text-decoration: underline\">-in-pythonmodel</span> for more details.\u001b<span style=\"font-weight: bold\">[</span>0m                                   <span style=\"color: #7f7f7f; text-decoration-color: #7f7f7f\">               </span>\n",
       "<span style=\"color: #7fbfbf; text-decoration-color: #7fbfbf\">                    </span>           <span style=\"color: #800080; text-decoration-color: #800080; font-weight: bold\">color_warning</span><span style=\"font-weight: bold\">(</span>                                                       <span style=\"color: #7f7f7f; text-decoration-color: #7f7f7f\">               </span>\n",
       "<span style=\"color: #7fbfbf; text-decoration-color: #7fbfbf\">                    </span>                                                                                <span style=\"color: #7f7f7f; text-decoration-color: #7f7f7f\">               </span>\n",
       "</pre>\n"
      ],
      "text/plain": [
       "\u001b[2;36m[04/10/25 09:47:57]\u001b[0m\u001b[2;36m \u001b[0m\u001b[33mWARNING \u001b[0m \u001b[35m/home/dampudia/miniconda3/envs/.dsit_whoswho/lib/python3.13/site-packa\u001b[0m \u001b]8;id=460541;file:///home/dampudia/miniconda3/envs/.dsit_whoswho/lib/python3.13/warnings.py\u001b\\\u001b[2mwarnings.py\u001b[0m\u001b]8;;\u001b\\\u001b[2m:\u001b[0m\u001b]8;id=200502;file:///home/dampudia/miniconda3/envs/.dsit_whoswho/lib/python3.13/warnings.py#110\u001b\\\u001b[2m110\u001b[0m\u001b]8;;\u001b\\\n",
       "\u001b[2;36m                    \u001b[0m         \u001b[35mges/mlflow/pyfunc/utils/\u001b[0m\u001b[95mdata_validation.py\u001b[0m:\u001b[1;36m168\u001b[0m: UserWarning: \u001b\u001b[1m[\u001b[0m33mAdd   \u001b[2m               \u001b[0m\n",
       "\u001b[2;36m                    \u001b[0m         type hints to the `predict` method to enable data validation and       \u001b[2m               \u001b[0m\n",
       "\u001b[2;36m                    \u001b[0m         automatic signature inference during model logging. Check              \u001b[2m               \u001b[0m\n",
       "\u001b[2;36m                    \u001b[0m         \u001b[4;94mhttps://mlflow.org/docs/latest/model/python_model.html#type-hint-usage\u001b[0m \u001b[2m               \u001b[0m\n",
       "\u001b[2;36m                    \u001b[0m         \u001b[4;94m-in-pythonmodel\u001b[0m for more details.\u001b\u001b[1m[\u001b[0m0m                                   \u001b[2m               \u001b[0m\n",
       "\u001b[2;36m                    \u001b[0m           \u001b[1;35mcolor_warning\u001b[0m\u001b[1m(\u001b[0m                                                       \u001b[2m               \u001b[0m\n",
       "\u001b[2;36m                    \u001b[0m                                                                                \u001b[2m               \u001b[0m\n"
      ]
     },
     "metadata": {},
     "output_type": "display_data"
    },
    {
     "data": {
      "text/html": [
       "<pre style=\"white-space:pre;overflow-x:auto;line-height:normal;font-family:Menlo,'DejaVu Sans Mono',consolas,'Courier New',monospace\"><span style=\"color: #7fbfbf; text-decoration-color: #7fbfbf\">[04/10/25 09:47:59] </span><span style=\"color: #000080; text-decoration-color: #000080\">INFO    </span> Kedro is sending anonymous usage data with the sole purpose of improving <a href=\"file:///home/dampudia/miniconda3/envs/.dsit_whoswho/lib/python3.13/site-packages/kedro_telemetry/plugin.py\" target=\"_blank\"><span style=\"color: #7f7f7f; text-decoration-color: #7f7f7f\">plugin.py</span></a><span style=\"color: #7f7f7f; text-decoration-color: #7f7f7f\">:</span><a href=\"file:///home/dampudia/miniconda3/envs/.dsit_whoswho/lib/python3.13/site-packages/kedro_telemetry/plugin.py#233\" target=\"_blank\"><span style=\"color: #7f7f7f; text-decoration-color: #7f7f7f\">233</span></a>\n",
       "<span style=\"color: #7fbfbf; text-decoration-color: #7fbfbf\">                    </span>         the product. No personal data or IP addresses are stored on our side. If <span style=\"color: #7f7f7f; text-decoration-color: #7f7f7f\">             </span>\n",
       "<span style=\"color: #7fbfbf; text-decoration-color: #7fbfbf\">                    </span>         you want to opt out, set the `KEDRO_DISABLE_TELEMETRY` or `DO_NOT_TRACK` <span style=\"color: #7f7f7f; text-decoration-color: #7f7f7f\">             </span>\n",
       "<span style=\"color: #7fbfbf; text-decoration-color: #7fbfbf\">                    </span>         environment variables, or create a `.telemetry` file in the current      <span style=\"color: #7f7f7f; text-decoration-color: #7f7f7f\">             </span>\n",
       "<span style=\"color: #7fbfbf; text-decoration-color: #7fbfbf\">                    </span>         working directory with the contents `consent: false`. Read more at       <span style=\"color: #7f7f7f; text-decoration-color: #7f7f7f\">             </span>\n",
       "<span style=\"color: #7fbfbf; text-decoration-color: #7fbfbf\">                    </span>         <span style=\"color: #0000ff; text-decoration-color: #0000ff; text-decoration: underline\">https://docs.kedro.org/en/stable/configuration/telemetry.html</span>            <span style=\"color: #7f7f7f; text-decoration-color: #7f7f7f\">             </span>\n",
       "</pre>\n"
      ],
      "text/plain": [
       "\u001b[2;36m[04/10/25 09:47:59]\u001b[0m\u001b[2;36m \u001b[0m\u001b[34mINFO    \u001b[0m Kedro is sending anonymous usage data with the sole purpose of improving \u001b]8;id=184766;file:///home/dampudia/miniconda3/envs/.dsit_whoswho/lib/python3.13/site-packages/kedro_telemetry/plugin.py\u001b\\\u001b[2mplugin.py\u001b[0m\u001b]8;;\u001b\\\u001b[2m:\u001b[0m\u001b]8;id=621461;file:///home/dampudia/miniconda3/envs/.dsit_whoswho/lib/python3.13/site-packages/kedro_telemetry/plugin.py#233\u001b\\\u001b[2m233\u001b[0m\u001b]8;;\u001b\\\n",
       "\u001b[2;36m                    \u001b[0m         the product. No personal data or IP addresses are stored on our side. If \u001b[2m             \u001b[0m\n",
       "\u001b[2;36m                    \u001b[0m         you want to opt out, set the `KEDRO_DISABLE_TELEMETRY` or `DO_NOT_TRACK` \u001b[2m             \u001b[0m\n",
       "\u001b[2;36m                    \u001b[0m         environment variables, or create a `.telemetry` file in the current      \u001b[2m             \u001b[0m\n",
       "\u001b[2;36m                    \u001b[0m         working directory with the contents `consent: false`. Read more at       \u001b[2m             \u001b[0m\n",
       "\u001b[2;36m                    \u001b[0m         \u001b[4;94mhttps://docs.kedro.org/en/stable/configuration/telemetry.html\u001b[0m            \u001b[2m             \u001b[0m\n"
      ]
     },
     "metadata": {},
     "output_type": "display_data"
    },
    {
     "data": {
      "text/html": [
       "<pre style=\"white-space:pre;overflow-x:auto;line-height:normal;font-family:Menlo,'DejaVu Sans Mono',consolas,'Courier New',monospace\"><span style=\"color: #7fbfbf; text-decoration-color: #7fbfbf\">[04/10/25 09:48:00] </span><span style=\"color: #000080; text-decoration-color: #000080\">INFO    </span> Kedro project dsit-whos-who                                            <a href=\"file:///home/dampudia/miniconda3/envs/.dsit_whoswho/lib/python3.13/site-packages/kedro/ipython/__init__.py\" target=\"_blank\"><span style=\"color: #7f7f7f; text-decoration-color: #7f7f7f\">__init__.py</span></a><span style=\"color: #7f7f7f; text-decoration-color: #7f7f7f\">:</span><a href=\"file:///home/dampudia/miniconda3/envs/.dsit_whoswho/lib/python3.13/site-packages/kedro/ipython/__init__.py#146\" target=\"_blank\"><span style=\"color: #7f7f7f; text-decoration-color: #7f7f7f\">146</span></a>\n",
       "</pre>\n"
      ],
      "text/plain": [
       "\u001b[2;36m[04/10/25 09:48:00]\u001b[0m\u001b[2;36m \u001b[0m\u001b[34mINFO    \u001b[0m Kedro project dsit-whos-who                                            \u001b]8;id=83479;file:///home/dampudia/miniconda3/envs/.dsit_whoswho/lib/python3.13/site-packages/kedro/ipython/__init__.py\u001b\\\u001b[2m__init__.py\u001b[0m\u001b]8;;\u001b\\\u001b[2m:\u001b[0m\u001b]8;id=770232;file:///home/dampudia/miniconda3/envs/.dsit_whoswho/lib/python3.13/site-packages/kedro/ipython/__init__.py#146\u001b\\\u001b[2m146\u001b[0m\u001b]8;;\u001b\\\n"
      ]
     },
     "metadata": {},
     "output_type": "display_data"
    },
    {
     "data": {
      "text/html": [
       "<pre style=\"white-space:pre;overflow-x:auto;line-height:normal;font-family:Menlo,'DejaVu Sans Mono',consolas,'Courier New',monospace\"><span style=\"color: #7fbfbf; text-decoration-color: #7fbfbf\">                    </span><span style=\"color: #000080; text-decoration-color: #000080\">INFO    </span> Defined global variable <span style=\"color: #008000; text-decoration-color: #008000\">'context'</span>, <span style=\"color: #008000; text-decoration-color: #008000\">'session'</span>, <span style=\"color: #008000; text-decoration-color: #008000\">'catalog'</span> and            <a href=\"file:///home/dampudia/miniconda3/envs/.dsit_whoswho/lib/python3.13/site-packages/kedro/ipython/__init__.py\" target=\"_blank\"><span style=\"color: #7f7f7f; text-decoration-color: #7f7f7f\">__init__.py</span></a><span style=\"color: #7f7f7f; text-decoration-color: #7f7f7f\">:</span><a href=\"file:///home/dampudia/miniconda3/envs/.dsit_whoswho/lib/python3.13/site-packages/kedro/ipython/__init__.py#147\" target=\"_blank\"><span style=\"color: #7f7f7f; text-decoration-color: #7f7f7f\">147</span></a>\n",
       "<span style=\"color: #7fbfbf; text-decoration-color: #7fbfbf\">                    </span>         <span style=\"color: #008000; text-decoration-color: #008000\">'pipelines'</span>                                                            <span style=\"color: #7f7f7f; text-decoration-color: #7f7f7f\">               </span>\n",
       "</pre>\n"
      ],
      "text/plain": [
       "\u001b[2;36m                   \u001b[0m\u001b[2;36m \u001b[0m\u001b[34mINFO    \u001b[0m Defined global variable \u001b[32m'context'\u001b[0m, \u001b[32m'session'\u001b[0m, \u001b[32m'catalog'\u001b[0m and            \u001b]8;id=253306;file:///home/dampudia/miniconda3/envs/.dsit_whoswho/lib/python3.13/site-packages/kedro/ipython/__init__.py\u001b\\\u001b[2m__init__.py\u001b[0m\u001b]8;;\u001b\\\u001b[2m:\u001b[0m\u001b]8;id=837638;file:///home/dampudia/miniconda3/envs/.dsit_whoswho/lib/python3.13/site-packages/kedro/ipython/__init__.py#147\u001b\\\u001b[2m147\u001b[0m\u001b]8;;\u001b\\\n",
       "\u001b[2;36m                    \u001b[0m         \u001b[32m'pipelines'\u001b[0m                                                            \u001b[2m               \u001b[0m\n"
      ]
     },
     "metadata": {},
     "output_type": "display_data"
    },
    {
     "data": {
      "text/html": [
       "<pre style=\"white-space:pre;overflow-x:auto;line-height:normal;font-family:Menlo,'DejaVu Sans Mono',consolas,'Courier New',monospace\"><span style=\"color: #7fbfbf; text-decoration-color: #7fbfbf\">                    </span><span style=\"color: #000080; text-decoration-color: #000080\">INFO    </span> Resolved project path as: <span style=\"color: #800080; text-decoration-color: #800080\">/home/dampudia/projects/</span><span style=\"color: #ff00ff; text-decoration-color: #ff00ff\">dsit-whos-who.</span>       <a href=\"file:///home/dampudia/miniconda3/envs/.dsit_whoswho/lib/python3.13/site-packages/kedro/ipython/__init__.py\" target=\"_blank\"><span style=\"color: #7f7f7f; text-decoration-color: #7f7f7f\">__init__.py</span></a><span style=\"color: #7f7f7f; text-decoration-color: #7f7f7f\">:</span><a href=\"file:///home/dampudia/miniconda3/envs/.dsit_whoswho/lib/python3.13/site-packages/kedro/ipython/__init__.py#180\" target=\"_blank\"><span style=\"color: #7f7f7f; text-decoration-color: #7f7f7f\">180</span></a>\n",
       "<span style=\"color: #7fbfbf; text-decoration-color: #7fbfbf\">                    </span>         To set a different path, run <span style=\"color: #008000; text-decoration-color: #008000\">'%reload_kedro &lt;project_root&gt;'</span>            <span style=\"color: #7f7f7f; text-decoration-color: #7f7f7f\">               </span>\n",
       "</pre>\n"
      ],
      "text/plain": [
       "\u001b[2;36m                   \u001b[0m\u001b[2;36m \u001b[0m\u001b[34mINFO    \u001b[0m Resolved project path as: \u001b[35m/home/dampudia/projects/\u001b[0m\u001b[95mdsit-whos-who.\u001b[0m       \u001b]8;id=675646;file:///home/dampudia/miniconda3/envs/.dsit_whoswho/lib/python3.13/site-packages/kedro/ipython/__init__.py\u001b\\\u001b[2m__init__.py\u001b[0m\u001b]8;;\u001b\\\u001b[2m:\u001b[0m\u001b]8;id=619372;file:///home/dampudia/miniconda3/envs/.dsit_whoswho/lib/python3.13/site-packages/kedro/ipython/__init__.py#180\u001b\\\u001b[2m180\u001b[0m\u001b]8;;\u001b\\\n",
       "\u001b[2;36m                    \u001b[0m         To set a different path, run \u001b[32m'%reload_kedro \u001b[0m\u001b[32m<\u001b[0m\u001b[32mproject_root\u001b[0m\u001b[32m>\u001b[0m\u001b[32m'\u001b[0m            \u001b[2m               \u001b[0m\n"
      ]
     },
     "metadata": {},
     "output_type": "display_data"
    },
    {
     "data": {
      "text/html": [
       "<pre style=\"white-space:pre;overflow-x:auto;line-height:normal;font-family:Menlo,'DejaVu Sans Mono',consolas,'Courier New',monospace\"><span style=\"color: #7fbfbf; text-decoration-color: #7fbfbf\">[04/10/25 09:48:01] </span><span style=\"color: #000080; text-decoration-color: #000080\">INFO    </span> Kedro is sending anonymous usage data with the sole purpose of improving <a href=\"file:///home/dampudia/miniconda3/envs/.dsit_whoswho/lib/python3.13/site-packages/kedro_telemetry/plugin.py\" target=\"_blank\"><span style=\"color: #7f7f7f; text-decoration-color: #7f7f7f\">plugin.py</span></a><span style=\"color: #7f7f7f; text-decoration-color: #7f7f7f\">:</span><a href=\"file:///home/dampudia/miniconda3/envs/.dsit_whoswho/lib/python3.13/site-packages/kedro_telemetry/plugin.py#233\" target=\"_blank\"><span style=\"color: #7f7f7f; text-decoration-color: #7f7f7f\">233</span></a>\n",
       "<span style=\"color: #7fbfbf; text-decoration-color: #7fbfbf\">                    </span>         the product. No personal data or IP addresses are stored on our side. If <span style=\"color: #7f7f7f; text-decoration-color: #7f7f7f\">             </span>\n",
       "<span style=\"color: #7fbfbf; text-decoration-color: #7fbfbf\">                    </span>         you want to opt out, set the `KEDRO_DISABLE_TELEMETRY` or `DO_NOT_TRACK` <span style=\"color: #7f7f7f; text-decoration-color: #7f7f7f\">             </span>\n",
       "<span style=\"color: #7fbfbf; text-decoration-color: #7fbfbf\">                    </span>         environment variables, or create a `.telemetry` file in the current      <span style=\"color: #7f7f7f; text-decoration-color: #7f7f7f\">             </span>\n",
       "<span style=\"color: #7fbfbf; text-decoration-color: #7fbfbf\">                    </span>         working directory with the contents `consent: false`. Read more at       <span style=\"color: #7f7f7f; text-decoration-color: #7f7f7f\">             </span>\n",
       "<span style=\"color: #7fbfbf; text-decoration-color: #7fbfbf\">                    </span>         <span style=\"color: #0000ff; text-decoration-color: #0000ff; text-decoration: underline\">https://docs.kedro.org/en/stable/configuration/telemetry.html</span>            <span style=\"color: #7f7f7f; text-decoration-color: #7f7f7f\">             </span>\n",
       "</pre>\n"
      ],
      "text/plain": [
       "\u001b[2;36m[04/10/25 09:48:01]\u001b[0m\u001b[2;36m \u001b[0m\u001b[34mINFO    \u001b[0m Kedro is sending anonymous usage data with the sole purpose of improving \u001b]8;id=669906;file:///home/dampudia/miniconda3/envs/.dsit_whoswho/lib/python3.13/site-packages/kedro_telemetry/plugin.py\u001b\\\u001b[2mplugin.py\u001b[0m\u001b]8;;\u001b\\\u001b[2m:\u001b[0m\u001b]8;id=199601;file:///home/dampudia/miniconda3/envs/.dsit_whoswho/lib/python3.13/site-packages/kedro_telemetry/plugin.py#233\u001b\\\u001b[2m233\u001b[0m\u001b]8;;\u001b\\\n",
       "\u001b[2;36m                    \u001b[0m         the product. No personal data or IP addresses are stored on our side. If \u001b[2m             \u001b[0m\n",
       "\u001b[2;36m                    \u001b[0m         you want to opt out, set the `KEDRO_DISABLE_TELEMETRY` or `DO_NOT_TRACK` \u001b[2m             \u001b[0m\n",
       "\u001b[2;36m                    \u001b[0m         environment variables, or create a `.telemetry` file in the current      \u001b[2m             \u001b[0m\n",
       "\u001b[2;36m                    \u001b[0m         working directory with the contents `consent: false`. Read more at       \u001b[2m             \u001b[0m\n",
       "\u001b[2;36m                    \u001b[0m         \u001b[4;94mhttps://docs.kedro.org/en/stable/configuration/telemetry.html\u001b[0m            \u001b[2m             \u001b[0m\n"
      ]
     },
     "metadata": {},
     "output_type": "display_data"
    },
    {
     "data": {
      "text/html": [
       "<pre style=\"white-space:pre;overflow-x:auto;line-height:normal;font-family:Menlo,'DejaVu Sans Mono',consolas,'Courier New',monospace\"><span style=\"color: #7fbfbf; text-decoration-color: #7fbfbf\">                    </span><span style=\"color: #000080; text-decoration-color: #000080\">INFO    </span> Kedro project dsit-whos-who                                            <a href=\"file:///home/dampudia/miniconda3/envs/.dsit_whoswho/lib/python3.13/site-packages/kedro/ipython/__init__.py\" target=\"_blank\"><span style=\"color: #7f7f7f; text-decoration-color: #7f7f7f\">__init__.py</span></a><span style=\"color: #7f7f7f; text-decoration-color: #7f7f7f\">:</span><a href=\"file:///home/dampudia/miniconda3/envs/.dsit_whoswho/lib/python3.13/site-packages/kedro/ipython/__init__.py#146\" target=\"_blank\"><span style=\"color: #7f7f7f; text-decoration-color: #7f7f7f\">146</span></a>\n",
       "</pre>\n"
      ],
      "text/plain": [
       "\u001b[2;36m                   \u001b[0m\u001b[2;36m \u001b[0m\u001b[34mINFO    \u001b[0m Kedro project dsit-whos-who                                            \u001b]8;id=155893;file:///home/dampudia/miniconda3/envs/.dsit_whoswho/lib/python3.13/site-packages/kedro/ipython/__init__.py\u001b\\\u001b[2m__init__.py\u001b[0m\u001b]8;;\u001b\\\u001b[2m:\u001b[0m\u001b]8;id=900041;file:///home/dampudia/miniconda3/envs/.dsit_whoswho/lib/python3.13/site-packages/kedro/ipython/__init__.py#146\u001b\\\u001b[2m146\u001b[0m\u001b]8;;\u001b\\\n"
      ]
     },
     "metadata": {},
     "output_type": "display_data"
    },
    {
     "data": {
      "text/html": [
       "<pre style=\"white-space:pre;overflow-x:auto;line-height:normal;font-family:Menlo,'DejaVu Sans Mono',consolas,'Courier New',monospace\"><span style=\"color: #7fbfbf; text-decoration-color: #7fbfbf\">                    </span><span style=\"color: #000080; text-decoration-color: #000080\">INFO    </span> Defined global variable <span style=\"color: #008000; text-decoration-color: #008000\">'context'</span>, <span style=\"color: #008000; text-decoration-color: #008000\">'session'</span>, <span style=\"color: #008000; text-decoration-color: #008000\">'catalog'</span> and            <a href=\"file:///home/dampudia/miniconda3/envs/.dsit_whoswho/lib/python3.13/site-packages/kedro/ipython/__init__.py\" target=\"_blank\"><span style=\"color: #7f7f7f; text-decoration-color: #7f7f7f\">__init__.py</span></a><span style=\"color: #7f7f7f; text-decoration-color: #7f7f7f\">:</span><a href=\"file:///home/dampudia/miniconda3/envs/.dsit_whoswho/lib/python3.13/site-packages/kedro/ipython/__init__.py#147\" target=\"_blank\"><span style=\"color: #7f7f7f; text-decoration-color: #7f7f7f\">147</span></a>\n",
       "<span style=\"color: #7fbfbf; text-decoration-color: #7fbfbf\">                    </span>         <span style=\"color: #008000; text-decoration-color: #008000\">'pipelines'</span>                                                            <span style=\"color: #7f7f7f; text-decoration-color: #7f7f7f\">               </span>\n",
       "</pre>\n"
      ],
      "text/plain": [
       "\u001b[2;36m                   \u001b[0m\u001b[2;36m \u001b[0m\u001b[34mINFO    \u001b[0m Defined global variable \u001b[32m'context'\u001b[0m, \u001b[32m'session'\u001b[0m, \u001b[32m'catalog'\u001b[0m and            \u001b]8;id=744502;file:///home/dampudia/miniconda3/envs/.dsit_whoswho/lib/python3.13/site-packages/kedro/ipython/__init__.py\u001b\\\u001b[2m__init__.py\u001b[0m\u001b]8;;\u001b\\\u001b[2m:\u001b[0m\u001b]8;id=605195;file:///home/dampudia/miniconda3/envs/.dsit_whoswho/lib/python3.13/site-packages/kedro/ipython/__init__.py#147\u001b\\\u001b[2m147\u001b[0m\u001b]8;;\u001b\\\n",
       "\u001b[2;36m                    \u001b[0m         \u001b[32m'pipelines'\u001b[0m                                                            \u001b[2m               \u001b[0m\n"
      ]
     },
     "metadata": {},
     "output_type": "display_data"
    }
   ],
   "source": [
    "# | output: false\n",
    "# Load Kedro extensions\n",
    "%load_ext kedro.ipython\n",
    "\n",
    "# Reload the Kedro context\n",
    "%reload_kedro"
   ]
  },
  {
   "cell_type": "markdown",
   "metadata": {},
   "source": [
    "## 1. Gateway to Research (GtR) Data Collection (`data_collection_gtr`)\n",
    "\n",
    "This pipeline retrieves core information about UKRI-funded research from the GtR API.\n",
    "\n",
    "**Purpose**: To gather foundational data on projects, funding, involved personnel, organisations, and associated publications as recorded in GtR. This forms the basis for identifying researchers and their activities.\n",
    "\n",
    "**Key Data Points & Endpoints Used**:\n",
    "\n",
    "-   **`projects`**: Retrieves details about funded research projects, including titles, abstracts, start/end dates, funding amounts, and grant categories. Essential for understanding the research context.\n",
    "-   **`persons`**: Fetches information about individuals involved in projects (Principal Investigators, Co-Investigators, etc.), including their names and unique GtR identifiers. Crucial for the subsequent author disambiguation step.\n",
    "-   **`publications`**: Collects metadata about publications linked to GtR projects, primarily DOIs. These are used to find corresponding records in OpenAlex.\n",
    "-   **`organisations`**: Gathers details about the institutions involved in funded research, which aids in affiliation matching during disambiguation.\n",
    "\n",
    "**Process**: The pipeline systematically interacts with these GtR API endpoints, handling pagination to retrieve all relevant records. It incorporates robust error handling, retry mechanisms for transient network issues, and adheres to API rate limits.\n",
    "\n",
    "### Direct API Example\n",
    "\n",
    "Below is a simple example demonstrating a direct request to the GtR API (using the `requests` library) to fetch data for a specific person. This illustrates the raw interaction that the Kedro pipeline nodes encapsulate."
   ]
  },
  {
   "cell_type": "code",
   "execution_count": 3,
   "metadata": {},
   "outputs": [
    {
     "name": "stdout",
     "output_type": "stream",
     "text": [
      "{\n",
      "  \"id\": \"FFDDCE32-AA62-447F-9F40-2D285C5CB209\",\n",
      "  \"title\": \"Spinal inhibitory interneurons that suppress itch\",\n",
      "  \"abstract\": \"Chronic itch is a distressing feature of many diseases, including conditions affecting the skin, kidneys and blood, as well as certain forms of cancer. It is also a side-effect of certain drugs, such as morphine. Although some types of itch respond t\"\n",
      "}\n"
     ]
    }
   ],
   "source": [
    "response = requests.get(\n",
    "    \"https://gtr.ukri.org/gtr/api/projects/FFDDCE32-AA62-447F-9F40-2D285C5CB209\",\n",
    "    headers={\"Accept\": \"application/vnd.rcuk.gtr.json-v7\"}\n",
    ")\n",
    "data = response.json()\n",
    "result = {\n",
    "    \"id\": data[\"id\"],\n",
    "    \"title\": data[\"title\"],\n",
    "    \"abstract\": data[\"abstractText\"][:250]\n",
    "}\n",
    "print(json.dumps(result, indent=2))"
   ]
  },
  {
   "cell_type": "markdown",
   "metadata": {},
   "source": [
    "### Pipeline Output Example\n",
    "In practice, we run the pipelines through the command interface. For example, collecting all `persons` data available through the GtR API requires the following command line:\n",
    "\n",
    "```bash\n",
    "kedro run --pipeline data_collection_gtr --tags publications\n",
    "```\n",
    "\n",
    "This will run two nodes: a first node that creates partitions of the data fetch and saves these, and a second node that concatenates the partitioned dataset into a parquet file.\n",
    "\n",
    "After the pipeline runs, the collected and processed data is stored in the Kedro catalog. Let's load an example of the processed `persons` data:"
   ]
  },
  {
   "cell_type": "code",
   "execution_count": 4,
   "metadata": {},
   "outputs": [
    {
     "data": {
      "text/html": [
       "<pre style=\"white-space:pre;overflow-x:auto;line-height:normal;font-family:Menlo,'DejaVu Sans Mono',consolas,'Courier New',monospace\"><span style=\"color: #7fbfbf; text-decoration-color: #7fbfbf\">[04/10/25 09:48:02] </span><span style=\"color: #000080; text-decoration-color: #000080\">INFO    </span> Loading data from <span style=\"color: #ff8700; text-decoration-color: #ff8700\">gtr.data_collection.persons.intermediate</span>         <a href=\"file:///home/dampudia/miniconda3/envs/.dsit_whoswho/lib/python3.13/site-packages/kedro/io/data_catalog.py\" target=\"_blank\"><span style=\"color: #7f7f7f; text-decoration-color: #7f7f7f\">data_catalog.py</span></a><span style=\"color: #7f7f7f; text-decoration-color: #7f7f7f\">:</span><a href=\"file:///home/dampudia/miniconda3/envs/.dsit_whoswho/lib/python3.13/site-packages/kedro/io/data_catalog.py#390\" target=\"_blank\"><span style=\"color: #7f7f7f; text-decoration-color: #7f7f7f\">390</span></a>\n",
       "<span style=\"color: #7fbfbf; text-decoration-color: #7fbfbf\">                    </span>         <span style=\"font-weight: bold\">(</span>ParquetDataset<span style=\"font-weight: bold\">)</span><span style=\"color: #808000; text-decoration-color: #808000\">...</span>                                                <span style=\"color: #7f7f7f; text-decoration-color: #7f7f7f\">                   </span>\n",
       "</pre>\n"
      ],
      "text/plain": [
       "\u001b[2;36m[04/10/25 09:48:02]\u001b[0m\u001b[2;36m \u001b[0m\u001b[34mINFO    \u001b[0m Loading data from \u001b[38;5;208mgtr.data_collection.persons.intermediate\u001b[0m         \u001b]8;id=681743;file:///home/dampudia/miniconda3/envs/.dsit_whoswho/lib/python3.13/site-packages/kedro/io/data_catalog.py\u001b\\\u001b[2mdata_catalog.py\u001b[0m\u001b]8;;\u001b\\\u001b[2m:\u001b[0m\u001b]8;id=723466;file:///home/dampudia/miniconda3/envs/.dsit_whoswho/lib/python3.13/site-packages/kedro/io/data_catalog.py#390\u001b\\\u001b[2m390\u001b[0m\u001b]8;;\u001b\\\n",
       "\u001b[2;36m                    \u001b[0m         \u001b[1m(\u001b[0mParquetDataset\u001b[1m)\u001b[0m\u001b[33m...\u001b[0m                                                \u001b[2m                   \u001b[0m\n"
      ]
     },
     "metadata": {},
     "output_type": "display_data"
    }
   ],
   "source": [
    "# | output: false\n",
    "persons = catalog.load(\"gtr.data_collection.persons.intermediate\")"
   ]
  },
  {
   "cell_type": "code",
   "execution_count": 5,
   "metadata": {},
   "outputs": [
    {
     "name": "stdout",
     "output_type": "stream",
     "text": [
      "Shape: (140245, 8)\n",
      "Columns: ['person_id', 'orcid_id', 'first_name', 'surname', 'other_names', 'email', 'projects', 'organisations']\n",
      "Example data:\n"
     ]
    },
    {
     "data": {
      "text/html": [
       "<pre style=\"white-space:pre;overflow-x:auto;line-height:normal;font-family:Menlo,'DejaVu Sans Mono',consolas,'Courier New',monospace\"></pre>\n"
      ],
      "text/plain": []
     },
     "metadata": {},
     "output_type": "display_data"
    },
    {
     "data": {
      "text/html": [
       "<div>\n",
       "<style scoped>\n",
       "    .dataframe tbody tr th:only-of-type {\n",
       "        vertical-align: middle;\n",
       "    }\n",
       "\n",
       "    .dataframe tbody tr th {\n",
       "        vertical-align: top;\n",
       "    }\n",
       "\n",
       "    .dataframe thead th {\n",
       "        text-align: right;\n",
       "    }\n",
       "</style>\n",
       "<table border=\"1\" class=\"dataframe\">\n",
       "  <thead>\n",
       "    <tr style=\"text-align: right;\">\n",
       "      <th></th>\n",
       "      <th>person_id</th>\n",
       "      <th>orcid_id</th>\n",
       "      <th>first_name</th>\n",
       "      <th>surname</th>\n",
       "      <th>other_names</th>\n",
       "      <th>email</th>\n",
       "      <th>projects</th>\n",
       "      <th>organisations</th>\n",
       "    </tr>\n",
       "  </thead>\n",
       "  <tbody>\n",
       "    <tr>\n",
       "      <th>0</th>\n",
       "      <td>153B0438-9136-480C-B0E1-908A9DDE2AF1</td>\n",
       "      <td>None</td>\n",
       "      <td>Anne</td>\n",
       "      <td>Osbourn</td>\n",
       "      <td></td>\n",
       "      <td>None</td>\n",
       "      <td>[{'id': '74DF8C7B-CA58-4961-9EFF-00FBA00803D6', 'role': 'PI_PER'}, {'id': 'DDEE52BB-6B2B-4A3E-9D67-0BF0C77EE0A9', 'role': 'PI_PER'}, {'id': 'BDC017FB-2D64-4...</td>\n",
       "      <td>[{'id': '8E38A887-3CD8-49FD-87E5-A1844E81B9CF', 'role': 'EMPLOYED'}]</td>\n",
       "    </tr>\n",
       "    <tr>\n",
       "      <th>1</th>\n",
       "      <td>15522B00-543E-4C45-87C4-B27D78459184</td>\n",
       "      <td>None</td>\n",
       "      <td>Nick</td>\n",
       "      <td>Plant</td>\n",
       "      <td></td>\n",
       "      <td>None</td>\n",
       "      <td>[{'id': '4FAFE57B-4C27-4B45-9AEA-026F0DDF42DC', 'role': 'TGH_PER'}, {'id': '7AC1CF29-AA48-4716-9D21-34ADE4C075CC', 'role': 'PI_PER'}, {'id': '01C229C2-90F4-...</td>\n",
       "      <td>[{'id': 'CA799973-1F1B-4936-B99A-9970F567FE67', 'role': 'EMPLOYED'}]</td>\n",
       "    </tr>\n",
       "  </tbody>\n",
       "</table>\n",
       "</div>"
      ],
      "text/plain": [
       "\n",
       "                              person_id orcid_id first_name  surname  \\\n",
       "\u001b[1;36m0\u001b[0m  \u001b[93m153B0438-9136-480C-B0E1-908A9DDE2AF1\u001b[0m     \u001b[3;35mNone\u001b[0m       Anne  Osbourn   \n",
       "\u001b[1;36m1\u001b[0m  \u001b[93m15522B00-543E-4C45-87C4-B27D78459184\u001b[0m     \u001b[3;35mNone\u001b[0m       Nick    Plant   \n",
       "\n",
       "  other_names email  \\\n",
       "\u001b[1;36m0\u001b[0m              \u001b[3;35mNone\u001b[0m   \n",
       "\u001b[1;36m1\u001b[0m              \u001b[3;35mNone\u001b[0m   \n",
       "\n",
       "                                                                                                                                                          projects  \\\n",
       "\u001b[1;36m0\u001b[0m  \u001b[1m[\u001b[0m\u001b[1m{\u001b[0m\u001b[32m'id'\u001b[0m: \u001b[32m'74DF8C7B-CA58-4961-9EFF-00FBA00803D6'\u001b[0m, \u001b[32m'role'\u001b[0m: \u001b[32m'PI_PER'\u001b[0m\u001b[1m}\u001b[0m, \u001b[1m{\u001b[0m\u001b[32m'id'\u001b[0m: \u001b[32m'DDEE52BB-6B2B-4A3E-9D67-0BF0C77EE0A9'\u001b[0m, \u001b[32m'role'\u001b[0m: \u001b[32m'PI_PER'\u001b[0m\u001b[1m}\u001b[0m, \u001b[1m{\u001b[0m\u001b[32m'id'\u001b[0m: 'BDC017FB-2D64-\u001b[1;36m4\u001b[0m\u001b[33m...\u001b[0m\n",
       "\u001b[1;36m1\u001b[0m  \u001b[1m[\u001b[0m\u001b[1m{\u001b[0m\u001b[32m'id'\u001b[0m: \u001b[32m'4FAFE57B-4C27-4B45-9AEA-026F0DDF42DC'\u001b[0m, \u001b[32m'role'\u001b[0m: \u001b[32m'TGH_PER'\u001b[0m\u001b[1m}\u001b[0m, \u001b[1m{\u001b[0m\u001b[32m'id'\u001b[0m: \u001b[32m'7AC1CF29-AA48-4716-9D21-34ADE4C075CC'\u001b[0m, \u001b[32m'role'\u001b[0m: \u001b[32m'PI_PER'\u001b[0m\u001b[1m}\u001b[0m, \u001b[1m{\u001b[0m\u001b[32m'id'\u001b[0m: '01C229C2-90F4-\u001b[33m...\u001b[0m\n",
       "\n",
       "                                                          organisations  \n",
       "\u001b[1;36m0\u001b[0m  \u001b[1m[\u001b[0m\u001b[1m{\u001b[0m\u001b[32m'id'\u001b[0m: \u001b[32m'8E38A887-3CD8-49FD-87E5-A1844E81B9CF'\u001b[0m, \u001b[32m'role'\u001b[0m: \u001b[32m'EMPLOYED'\u001b[0m\u001b[1m}\u001b[0m\u001b[1m]\u001b[0m  \n",
       "\u001b[1;36m1\u001b[0m  \u001b[1m[\u001b[0m\u001b[1m{\u001b[0m\u001b[32m'id'\u001b[0m: \u001b[32m'CA799973-1F1B-4936-B99A-9970F567FE67'\u001b[0m, \u001b[32m'role'\u001b[0m: \u001b[32m'EMPLOYED'\u001b[0m\u001b[1m}\u001b[0m\u001b[1m]\u001b[0m  "
      ]
     },
     "metadata": {},
     "output_type": "display_data"
    }
   ],
   "source": [
    "# | code-fold: true\n",
    "print(f\"Shape: {persons.shape}\")\n",
    "print(\"Columns:\", persons.columns.tolist())\n",
    "print(\"Example data:\")\n",
    "display(persons.head(2))"
   ]
  },
  {
   "cell_type": "markdown",
   "metadata": {},
   "source": [
    "## 2. OpenAlex Data Collection (`data_collection_oa`)\n",
    "\n",
    "This pipeline fetches and processes data from the OpenAlex API, using identifiers gathered from the GtR dataset (persons, publications) as starting points.\n",
    "\n",
    "**Purpose**: To collect detailed information about authors, publications, and institutions from OpenAlex that correspond to or are potentially related to the entities identified in GtR. This data serves two main goals:\n",
    "\n",
    "1.  Gathering potential **candidate matches** for GtR researchers in OpenAlex, forming the input for the `author_disambiguation` pipeline.\n",
    "2.  **Enriching** the dataset with  publication and institutional details for matching and basic-metric analysis.\n",
    "\n",
    "**Sub-Pipelines Overview**:\n",
    "\n",
    "This pipeline is structured into four main sub-pipelines, each targeting different entities or using different GtR identifiers:\n",
    "\n",
    "1.  **ORCID Fetch (`fetch_orcid`)**: Uses ORCID iDs available for some GtR persons to directly query OpenAlex. This aims to find highly probable or exact matches and retrieve their corresponding OpenAlex author profiles.\n",
    "2.  **Author Name Search (`fetch_author_names`)**: Takes the display names of *all* GtR persons (~140,000) and searches for potential matches in OpenAlex. This generates a large pool of candidate OpenAlex authors (resulting in ~5.7 million potential GtR-OA pairs) for the disambiguation model to evaluate.\n",
    "3.  **Publication Fetch (`fetch_doi_publications`)**: Uses DOIs associated with GtR projects/publications to retrieve detailed publication records (metadata, authorships, citations, etc.) from OpenAlex.\n",
    "4.  **Institution Fetch (`fetch_institutions`)**: Extracts OpenAlex institution IDs identified in the *author search results* and fetches detailed information about these institutions.\n",
    "\n",
    "**Process**: The pipeline interacts with the OpenAlex API, often batched to both process in **parallel** using `joblib`. Filter conditions are also joined by `OR` conditions (`|`) to reduce the number of calls by a factor of 50 (see [documentation details](https://docs.openalex.org/how-to-use-the-api/get-lists-of-entities/filter-entity-lists#logical-expressions)).\n",
    "\n",
    "### Direct API Example\n",
    "\n",
    "Below is a simple example demonstrating a direct request to the OpenAlex API (using the `requests` library) to fetch candidates for a specific name: `Anouk L'Hermitte`. This illustrates the raw interaction that the Kedro pipeline nodes encapsulate."
   ]
  },
  {
   "cell_type": "code",
   "execution_count": 6,
   "metadata": {},
   "outputs": [
    {
     "name": "stdout",
     "output_type": "stream",
     "text": [
      "{\n",
      "  \"id\": \"https://openalex.org/A5004845442\",\n",
      "  \"orcid\": \"https://orcid.org/0000-0001-7595-5387\",\n",
      "  \"display_name\": \"Anouk L\\u2019Hermitte\",\n",
      "  \"counts_by_year\": [\n",
      "    {\n",
      "      \"year\": 2025,\n",
      "      \"works_count\": 0,\n",
      "      \"cited_by_count\": 29\n",
      "    },\n",
      "    {\n",
      "      \"year\": 2024,\n",
      "      \"works_count\": 0,\n",
      "      \"cited_by_count\": 99\n",
      "    }\n",
      "  ]\n",
      "}\n"
     ]
    }
   ],
   "source": [
    "response = requests.get(\n",
    "    \"https://api.openalex.org/authors?filter=display_name.search:Anouk L'Hermitte\",\n",
    "    params={\"select\": \"id,orcid,display_name,counts_by_year\"}\n",
    ")\n",
    "\n",
    "data = response.json()\n",
    "author = data[\"results\"][0]\n",
    "result = {\n",
    "    \"id\": author[\"id\"],\n",
    "    \"orcid\": author.get(\"orcid\"),\n",
    "    \"display_name\": author[\"display_name\"],\n",
    "    \"counts_by_year\": author[\"counts_by_year\"][:2]\n",
    "}\n",
    "print(json.dumps(result, indent=2))"
   ]
  },
  {
   "cell_type": "markdown",
   "metadata": {},
   "source": [
    "### Pipeline Output Example\n",
    "\n",
    "This pipeline generates multiple datasets corresponding to the outputs of its sub-pipelines (e.g., authors found via ORCID, authors found via name search, publications, institutions). Let's load the ORCID-based data, which corresponds to the output of the following sub-pipeline:\n",
    "\n",
    "```bash\n",
    "kedro run --pipeline data_collection_oa --tags fetch_orcid\n",
    "```\n",
    "\n",
    "Note that the names of the catalog objects are defined in `conf/base/catalog.yml`, but we use dataset factories by defining \"generic\" configurations and allowing OmegaConf to resolve the references. For example, `oa.data_collection.{filter}.intermediate` will correctly map the catalog object to the pipeline outputs `oa.data_collection.orcid.intermediate` and `oa.data_collection.publications.intermediate`, without needing to define each of these explicitly in the YAML file."
   ]
  },
  {
   "cell_type": "code",
   "execution_count": 7,
   "metadata": {},
   "outputs": [
    {
     "data": {
      "text/html": [
       "<pre style=\"white-space:pre;overflow-x:auto;line-height:normal;font-family:Menlo,'DejaVu Sans Mono',consolas,'Courier New',monospace\"><span style=\"color: #7fbfbf; text-decoration-color: #7fbfbf\">[04/10/25 09:48:08] </span><span style=\"color: #000080; text-decoration-color: #000080\">INFO    </span> Loading data from <span style=\"color: #ff8700; text-decoration-color: #ff8700\">oa.data_collection.orcid.intermediate</span>            <a href=\"file:///home/dampudia/miniconda3/envs/.dsit_whoswho/lib/python3.13/site-packages/kedro/io/data_catalog.py\" target=\"_blank\"><span style=\"color: #7f7f7f; text-decoration-color: #7f7f7f\">data_catalog.py</span></a><span style=\"color: #7f7f7f; text-decoration-color: #7f7f7f\">:</span><a href=\"file:///home/dampudia/miniconda3/envs/.dsit_whoswho/lib/python3.13/site-packages/kedro/io/data_catalog.py#390\" target=\"_blank\"><span style=\"color: #7f7f7f; text-decoration-color: #7f7f7f\">390</span></a>\n",
       "<span style=\"color: #7fbfbf; text-decoration-color: #7fbfbf\">                    </span>         <span style=\"font-weight: bold\">(</span>ParquetDataset<span style=\"font-weight: bold\">)</span><span style=\"color: #808000; text-decoration-color: #808000\">...</span>                                                <span style=\"color: #7f7f7f; text-decoration-color: #7f7f7f\">                   </span>\n",
       "</pre>\n"
      ],
      "text/plain": [
       "\u001b[2;36m[04/10/25 09:48:08]\u001b[0m\u001b[2;36m \u001b[0m\u001b[34mINFO    \u001b[0m Loading data from \u001b[38;5;208moa.data_collection.orcid.intermediate\u001b[0m            \u001b]8;id=949714;file:///home/dampudia/miniconda3/envs/.dsit_whoswho/lib/python3.13/site-packages/kedro/io/data_catalog.py\u001b\\\u001b[2mdata_catalog.py\u001b[0m\u001b]8;;\u001b\\\u001b[2m:\u001b[0m\u001b]8;id=549199;file:///home/dampudia/miniconda3/envs/.dsit_whoswho/lib/python3.13/site-packages/kedro/io/data_catalog.py#390\u001b\\\u001b[2m390\u001b[0m\u001b]8;;\u001b\\\n",
       "\u001b[2;36m                    \u001b[0m         \u001b[1m(\u001b[0mParquetDataset\u001b[1m)\u001b[0m\u001b[33m...\u001b[0m                                                \u001b[2m                   \u001b[0m\n"
      ]
     },
     "metadata": {},
     "output_type": "display_data"
    }
   ],
   "source": [
    "# | output: false\n",
    "orcid_authors = catalog.load(\"oa.data_collection.orcid.intermediate\")"
   ]
  },
  {
   "cell_type": "code",
   "execution_count": 8,
   "metadata": {},
   "outputs": [
    {
     "name": "stdout",
     "output_type": "stream",
     "text": [
      "Shape: (16847, 12)\n",
      "Columns: ['id', 'orcid', 'display_name', 'display_name_alternatives', 'works_count', 'cited_by_count', 'h_index', 'i10_index', 'affiliations', 'last_known_institutions', 'topics', 'counts_by_year']\n",
      "Example data:\n"
     ]
    },
    {
     "data": {
      "text/html": [
       "<pre style=\"white-space:pre;overflow-x:auto;line-height:normal;font-family:Menlo,'DejaVu Sans Mono',consolas,'Courier New',monospace\"></pre>\n"
      ],
      "text/plain": []
     },
     "metadata": {},
     "output_type": "display_data"
    },
    {
     "data": {
      "text/html": [
       "<div>\n",
       "<style scoped>\n",
       "    .dataframe tbody tr th:only-of-type {\n",
       "        vertical-align: middle;\n",
       "    }\n",
       "\n",
       "    .dataframe tbody tr th {\n",
       "        vertical-align: top;\n",
       "    }\n",
       "\n",
       "    .dataframe thead th {\n",
       "        text-align: right;\n",
       "    }\n",
       "</style>\n",
       "<table border=\"1\" class=\"dataframe\">\n",
       "  <thead>\n",
       "    <tr style=\"text-align: right;\">\n",
       "      <th></th>\n",
       "      <th>id</th>\n",
       "      <th>orcid</th>\n",
       "      <th>display_name</th>\n",
       "      <th>display_name_alternatives</th>\n",
       "      <th>works_count</th>\n",
       "      <th>cited_by_count</th>\n",
       "      <th>h_index</th>\n",
       "      <th>i10_index</th>\n",
       "      <th>affiliations</th>\n",
       "      <th>last_known_institutions</th>\n",
       "      <th>topics</th>\n",
       "      <th>counts_by_year</th>\n",
       "    </tr>\n",
       "  </thead>\n",
       "  <tbody>\n",
       "    <tr>\n",
       "      <th>0</th>\n",
       "      <td>A5079633934</td>\n",
       "      <td>0000-0003-1376-8409</td>\n",
       "      <td>Adrian L. Harris</td>\n",
       "      <td>[A. L Harris, A. L. Harris, Adrian. Harris, Austin Harris, AdrianL. Harris, Adrian L. Harris, AL. Harris, Al Harris, Alex L. Harris, and Adrian L. Harris, A...</td>\n",
       "      <td>2061</td>\n",
       "      <td>149619</td>\n",
       "      <td>186</td>\n",
       "      <td>1096</td>\n",
       "      <td>[[I4210110594, MRC Weatherall Institute of Molecular Medicine, GB, facility, 2025,2024,2023,2022,2021,2020,2019,2018,2017,2016], [I40120149, University of O...</td>\n",
       "      <td>[[I4210110594, MRC Weatherall Institute of Molecular Medicine, GB, facility], [I2801316944, Cancer Research UK, GB, nonprofit], [I40120149, University of Ox...</td>\n",
       "      <td>[[T10631, Cancer, Hypoxia, and Metabolism, 627, subfields/1306, Cancer Research, fields/13, Biochemistry, Genetics and Molecular Biology, domains/1, Life Sc...</td>\n",
       "      <td>[[2025, 4, 1802], [2024, 19, 11200], [2023, 312, 12997], [2022, 17, 13197], [2021, 28, 15117], [2020, 33, 13976], [2019, 42, 12614], [2018, 35, 12295], [201...</td>\n",
       "    </tr>\n",
       "    <tr>\n",
       "      <th>1</th>\n",
       "      <td>A5019685830</td>\n",
       "      <td>0000-0002-0784-8640</td>\n",
       "      <td>Andrew P. Monkman</td>\n",
       "      <td>[A. Monkman, Andy Monkman, Andrew T. Monkman, A.P Monkman, A. P. Monkman, Andrew P. Monkman, Andy P. Monkman, Andrew Monkman]</td>\n",
       "      <td>798</td>\n",
       "      <td>27353</td>\n",
       "      <td>82</td>\n",
       "      <td>394</td>\n",
       "      <td>[[I190082696, Durham University, GB, funder, 2025,2024,2023,2022,2021,2020,2019,2018,2017,2016], [I169381384, University of Groningen, NL, funder, 2023,2003...</td>\n",
       "      <td>[[I190082696, Durham University, GB, funder]]</td>\n",
       "      <td>[[T10611, Organic Light-Emitting Diodes Research, 308, subfields/2208, Electrical and Electronic Engineering, fields/22, Engineering, domains/3, Physical Sc...</td>\n",
       "      <td>[[2025, 2, 278], [2024, 19, 2624], [2023, 58, 2740], [2022, 42, 2860], [2021, 37, 3075], [2020, 29, 2787], [2019, 50, 2807], [2018, 36, 2682], [2017, 23, 20...</td>\n",
       "    </tr>\n",
       "  </tbody>\n",
       "</table>\n",
       "</div>"
      ],
      "text/plain": [
       "\n",
       "            id                orcid       display_name  \\\n",
       "\u001b[1;36m0\u001b[0m  A5079633934  \u001b[1;36m0000\u001b[0m-\u001b[1;36m0003\u001b[0m-\u001b[1;36m1376\u001b[0m-\u001b[1;36m8409\u001b[0m   Adrian L. Harris   \n",
       "\u001b[1;36m1\u001b[0m  A5019685830  \u001b[1;36m0000\u001b[0m-\u001b[1;36m0002\u001b[0m-\u001b[1;36m0784\u001b[0m-\u001b[1;36m8640\u001b[0m  Andrew P. Monkman   \n",
       "\n",
       "                                                                                                                                         display_name_alternatives  \\\n",
       "\u001b[1;36m0\u001b[0m  \u001b[1m[\u001b[0mA. L Harris, A. L. Harris, Adrian. Harris, Austin Harris, AdrianL. Harris, Adrian L. Harris, AL. Harris, Al Harris, Alex L. Harris, and Adrian L. Harris, A\u001b[33m...\u001b[0m\n",
       "\u001b[1;36m1\u001b[0m                                    \u001b[1m[\u001b[0mA. Monkman, Andy Monkman, Andrew T. Monkman, A.P Monkman, A. P. Monkman, Andrew P. Monkman, Andy P. Monkman, Andrew Monkman\u001b[1m]\u001b[0m\n",
       "\n",
       "   works_count  cited_by_count  h_index  i10_index  \\\n",
       "\u001b[1;36m0\u001b[0m         \u001b[1;36m2061\u001b[0m          \u001b[1;36m149619\u001b[0m      \u001b[1;36m186\u001b[0m       \u001b[1;36m1096\u001b[0m   \n",
       "\u001b[1;36m1\u001b[0m          \u001b[1;36m798\u001b[0m           \u001b[1;36m27353\u001b[0m       \u001b[1;36m82\u001b[0m        \u001b[1;36m394\u001b[0m   \n",
       "\n",
       "                                                                                                                                                      affiliations  \\\n",
       "\u001b[1;36m0\u001b[0m  \u001b[1m[\u001b[0m\u001b[1m[\u001b[0mI4210110594, MRC Weatherall Institute of Molecular Medicine, GB, facility, \u001b[1;36m2025\u001b[0m,\u001b[1;36m2024\u001b[0m,\u001b[1;36m2023\u001b[0m,\u001b[1;36m2022\u001b[0m,\u001b[1;36m2021\u001b[0m,\u001b[1;36m2020\u001b[0m,\u001b[1;36m2019\u001b[0m,\u001b[1;36m2018\u001b[0m,\u001b[1;36m2017\u001b[0m,\u001b[1;36m2016\u001b[0m\u001b[1m]\u001b[0m, \u001b[1m[\u001b[0mI40120149, University of O\u001b[33m...\u001b[0m\n",
       "\u001b[1;36m1\u001b[0m  \u001b[1m[\u001b[0m\u001b[1m[\u001b[0mI190082696, Durham University, GB, funder, \u001b[1;36m2025\u001b[0m,\u001b[1;36m2024\u001b[0m,\u001b[1;36m2023\u001b[0m,\u001b[1;36m2022\u001b[0m,\u001b[1;36m2021\u001b[0m,\u001b[1;36m2020\u001b[0m,\u001b[1;36m2019\u001b[0m,\u001b[1;36m2018\u001b[0m,\u001b[1;36m2017\u001b[0m,\u001b[1;36m2016\u001b[0m\u001b[1m]\u001b[0m, \u001b[1m[\u001b[0mI169381384, University of Groningen, NL, funder, \u001b[1;36m2023\u001b[0m,\u001b[1;36m2003\u001b[0m\u001b[33m...\u001b[0m\n",
       "\n",
       "                                                                                                                                           last_known_institutions  \\\n",
       "\u001b[1;36m0\u001b[0m  \u001b[1m[\u001b[0m\u001b[1m[\u001b[0mI4210110594, MRC Weatherall Institute of Molecular Medicine, GB, facility\u001b[1m]\u001b[0m, \u001b[1m[\u001b[0mI2801316944, Cancer Research UK, GB, nonprofit\u001b[1m]\u001b[0m, \u001b[1m[\u001b[0mI40120149, University of Ox\u001b[33m...\u001b[0m\n",
       "\u001b[1;36m1\u001b[0m                                                                                                                    \u001b[1m[\u001b[0m\u001b[1m[\u001b[0mI190082696, Durham University, GB, funder\u001b[1m]\u001b[0m\u001b[1m]\u001b[0m\n",
       "\n",
       "                                                                                                                                                            topics  \\\n",
       "\u001b[1;36m0\u001b[0m  \u001b[1m[\u001b[0m\u001b[1m[\u001b[0mT10631, Cancer, Hypoxia, and Metabolism, \u001b[1;36m627\u001b[0m, subfields/\u001b[1;36m1306\u001b[0m, Cancer Research, fields/\u001b[1;36m13\u001b[0m, Biochemistry, Genetics and Molecular Biology, domains/\u001b[1;36m1\u001b[0m, Life Sc\u001b[33m...\u001b[0m\n",
       "\u001b[1;36m1\u001b[0m  \u001b[1m[\u001b[0m\u001b[1m[\u001b[0mT10611, Organic Light-Emitting Diodes Research, \u001b[1;36m308\u001b[0m, subfields/\u001b[1;36m2208\u001b[0m, Electrical and Electronic Engineering, fields/\u001b[1;36m22\u001b[0m, Engineering, domains/\u001b[1;36m3\u001b[0m, Physical Sc\u001b[33m...\u001b[0m\n",
       "\n",
       "                                                                                                                                                    counts_by_year\n",
       "\u001b[1;36m0\u001b[0m  \u001b[1m[\u001b[0m\u001b[1m[\u001b[0m\u001b[1;36m2025\u001b[0m, \u001b[1;36m4\u001b[0m, \u001b[1;36m1802\u001b[0m\u001b[1m]\u001b[0m, \u001b[1m[\u001b[0m\u001b[1;36m2024\u001b[0m, \u001b[1;36m19\u001b[0m, \u001b[1;36m11200\u001b[0m\u001b[1m]\u001b[0m, \u001b[1m[\u001b[0m\u001b[1;36m2023\u001b[0m, \u001b[1;36m312\u001b[0m, \u001b[1;36m12997\u001b[0m\u001b[1m]\u001b[0m, \u001b[1m[\u001b[0m\u001b[1;36m2022\u001b[0m, \u001b[1;36m17\u001b[0m, \u001b[1;36m13197\u001b[0m\u001b[1m]\u001b[0m, \u001b[1m[\u001b[0m\u001b[1;36m2021\u001b[0m, \u001b[1;36m28\u001b[0m, \u001b[1;36m15117\u001b[0m\u001b[1m]\u001b[0m, \u001b[1m[\u001b[0m\u001b[1;36m2020\u001b[0m, \u001b[1;36m33\u001b[0m, \u001b[1;36m13976\u001b[0m\u001b[1m]\u001b[0m, \u001b[1m[\u001b[0m\u001b[1;36m2019\u001b[0m, \u001b[1;36m42\u001b[0m, \u001b[1;36m12614\u001b[0m\u001b[1m]\u001b[0m, \u001b[1m[\u001b[0m\u001b[1;36m2018\u001b[0m, \u001b[1;36m35\u001b[0m, \u001b[1;36m12295\u001b[0m\u001b[1m]\u001b[0m, \u001b[1m[\u001b[0m\u001b[1;36m201\u001b[0m\u001b[33m...\u001b[0m\n",
       "\u001b[1;36m1\u001b[0m  \u001b[1m[\u001b[0m\u001b[1m[\u001b[0m\u001b[1;36m2025\u001b[0m, \u001b[1;36m2\u001b[0m, \u001b[1;36m278\u001b[0m\u001b[1m]\u001b[0m, \u001b[1m[\u001b[0m\u001b[1;36m2024\u001b[0m, \u001b[1;36m19\u001b[0m, \u001b[1;36m2624\u001b[0m\u001b[1m]\u001b[0m, \u001b[1m[\u001b[0m\u001b[1;36m2023\u001b[0m, \u001b[1;36m58\u001b[0m, \u001b[1;36m2740\u001b[0m\u001b[1m]\u001b[0m, \u001b[1m[\u001b[0m\u001b[1;36m2022\u001b[0m, \u001b[1;36m42\u001b[0m, \u001b[1;36m2860\u001b[0m\u001b[1m]\u001b[0m, \u001b[1m[\u001b[0m\u001b[1;36m2021\u001b[0m, \u001b[1;36m37\u001b[0m, \u001b[1;36m3075\u001b[0m\u001b[1m]\u001b[0m, \u001b[1m[\u001b[0m\u001b[1;36m2020\u001b[0m, \u001b[1;36m29\u001b[0m, \u001b[1;36m2787\u001b[0m\u001b[1m]\u001b[0m, \u001b[1m[\u001b[0m\u001b[1;36m2019\u001b[0m, \u001b[1;36m50\u001b[0m, \u001b[1;36m2807\u001b[0m\u001b[1m]\u001b[0m, \u001b[1m[\u001b[0m\u001b[1;36m2018\u001b[0m, \u001b[1;36m36\u001b[0m, \u001b[1;36m2682\u001b[0m\u001b[1m]\u001b[0m, \u001b[1m[\u001b[0m\u001b[1;36m2017\u001b[0m, \u001b[1;36m23\u001b[0m, \u001b[1;36m20\u001b[0m\u001b[33m...\u001b[0m"
      ]
     },
     "metadata": {},
     "output_type": "display_data"
    }
   ],
   "source": [
    "# | code-fold: true\n",
    "print(f\"Shape: {orcid_authors.shape}\")\n",
    "print(\"Columns:\", orcid_authors.columns.tolist())\n",
    "print(\"Example data:\")\n",
    "display(orcid_authors.head(2))"
   ]
  },
  {
   "cell_type": "markdown",
   "metadata": {},
   "source": [
    "## 3. Author Disambiguation (`author_disambiguation`)\n",
    "\n",
    "This pipeline links researcher records from GtR to their corresponding author profiles in OpenAlex using a machine learning approach.\n",
    "\n",
    "**Purpose**: To accurately identify and match individuals across the two datasets, resolving potential ambiguities based on names, affiliations, and research activities. This is necessary for attributing publications and metrics collected from OpenAlex back to the correct GtR person.\n",
    "\n",
    "**Pipeline Overview**:\n",
    "\n",
    "1.  **Data Aggregation & Preprocessing**: Consolidates GtR person information (details, affiliations, projects, topics, publications) and processes OpenAlex candidate profiles (affiliations, metrics, name variants).\n",
    "2.  **Candidate Generation**: Creates potential GtR-OA author pairs (~5.7 million) based initially on name similarity. Uses ORCID links where available to create a validated training set.\n",
    "3.  **Feature Engineering**: Computes a wide range of features for each candidate pair to quantify the likelihood of a match across multiple dimensions.\n",
    "4.  **Model Training**: Trains a classifier (e.g., LightGBM) to predict match probability, using strategies like SMOTE or class weighting to handle the severe class imbalance (~2.4% positive class).\n",
    "5.  **Prediction & Thresholding**: Applies the trained model to all candidate pairs and uses a selected probability threshold (0.80 in production) to determine the final matches, selecting the highest confidence match per GtR author.\n",
    "\n",
    "\n",
    "**Feature Engineering Details**:\n",
    "\n",
    "The pipeline computes five categories of features for each GtR-OA author pair:\n",
    "\n",
    "**1. Name Similarity Features**\n",
    "\n",
    "| Feature Type                  | Specific Features                                                                                                 |\n",
    "| :---------------------------- | :---------------------------------------------------------------------------------------------------------------- |\n",
    "| **Direct Name Comparisons**   | `display_lev` (Levenshtein), `display_jw` (Jaro-Winkler), `display_token` (Token Set Ratio)                        |\n",
    "| **Name Component Matches**    | `surname_match` (Binary), `first_initial_match` (Binary), `full_first_match` (Binary)                             |\n",
    "| **Alternative Name Comparisons** | `alt_lev_mean`/`max`, `alt_jw_mean`/`max`, `alt_token_mean`/`max` (Applied to OpenAlex alternative names)         |\n",
    "\n",
    "\n",
    "\n",
    "\n",
    "**2. Institution Features**\n",
    "\n",
    "| Feature Type                     | Specific Features                                                                                                  |\n",
    "| :------------------------------- | :----------------------------------------------------------------------------------------------------------------- |\n",
    "| **Direct Institution Comparison** | `inst_jw_max`, `inst_token_max` (Max similarity between GtR orgs and OA affiliations)                            |\n",
    "| **Associated Institution Metrics** | `inst_child_jw_max`, `inst_child_token_max` (Max similarity including OA associated/parent/child institutions) |\n",
    "| **GB Affiliation Indicators**     | `gb_affiliation_proportion`, `has_gb_affiliation` (Binary), `has_gb_associated` (Binary)                           |\n",
    "\n",
    "\n",
    "\n",
    "**3. Topic Similarity Features**\n",
    "\n",
    "Computed at four OpenAlex concept levels (domain, field, subfield, topic):\n",
    "\n",
    "| Feature Type     | Specific Features                                                                                                     |\n",
    "| :--------------- | :-------------------------------------------------------------------------------------------------------------------- |\n",
    "| **Overlap Metrics** | `{level}_jaccard`, `{level}_cosine`, `{level}_js_div` (Jensen-Shannon), `{level}_containment` (Calculated for each level) |\n",
    "\n",
    "\n",
    "\n",
    "**4. Publication Features**\n",
    "\n",
    "| Feature Type        | Specific Features                                                                       |\n",
    "| :------------------ | :-------------------------------------------------------------------------------------- |\n",
    "| **Coverage Metrics** | `publication_coverage`, `author_proportion` (Relating GtR project pubs to OA author) |\n",
    "\n",
    "\n",
    "\n",
    "**5. Author Metadata Features**\n",
    "\n",
    "| Feature Type          | Specific Features                                                                                              |\n",
    "| :-------------------- | :------------------------------------------------------------------------------------------------------------- |\n",
    "| **Publication Metrics** | `works_count`, `cited_by_count`, `h_index`, `i10_index`, `citations_per_work` (From OpenAlex author profile) |\n",
    "\n",
    "**Model Performance & Production Choice**:\n",
    "\n",
    "The pipeline was tested with both SMOTE and Class Weighting strategies to handle imbalance. The Class Weights model with a threshold of **0.80** was selected for production.\n",
    "\n",
    "*   **Test Set Performance (Class Weights, Threshold 0.80)**:\n",
    "    *   Accuracy: 0.996\n",
    "    *   Precision: 0.920\n",
    "    *   Recall: 0.937\n",
    "    *   F1 Score: 0.928\n",
    "\n",
    "*   **Confusion Matrix (Test Set)**:\n",
    "\n",
    "    | True \\ Predicted | Negative | Positive |\n",
    "    | :---------------- | --------:| --------:|\n",
    "    | **Negative**      | 58,217   | 118      |\n",
    "    | **Positive**      | 92       | 1,357    |\n",
    "\n",
    "*   **Feature Importance**: Name similarity (`alt_lev_max`) and institution matching (`inst_token_max`) were found to be the most important features, followed by publication overlap metrics. Topic similarity and author metadata features had lower importance.\n",
    "\n",
    "**Production Results & Coverage**:\n",
    "\n",
    "*   **Matches**: Applied to 5.7M candidate pairs, resulting in **85,444** matched unique GtR persons (using the 0.80 threshold).\n",
    "*   **Overall Coverage**: **60.9%** of all GtR persons, or **67.6%** of those considered 'matchable' (having at least one candidate name match in OpenAlex).\n",
    "*   **Coverage by Grant Category**: Coverage varies significantly by the primary grant category associated with the researcher in GtR.\n",
    "\n",
    "    | Category                         | Coverage Rate | Matches/Total   |\n",
    "    | :------------------------------- | ------------: | :-------------- |\n",
    "    | Fellowship                       | 82.9%         | 7,710/9,303     |\n",
    "    | Research and Innovation          | 82.8%         | 3,339/4,034     |\n",
    "    | Intramural                       | 82.8%         | 1,330/1,606     |\n",
    "    | Institute Project                | 79.0%         | 595/753         |\n",
    "    | Research Grant                   | 79.0%         | 55,881/70,748   |\n",
    "    | Training Grant                   | 70.7%         | 5,285/7,477     |\n",
    "    | Studentship                      | 56.3%         | 33,829/60,074   |\n",
    "    | EU-Funded                        | 47.9%         | 1,062/2,218     |\n",
    "    | Collaborative R&D                | 13.7%         | 1,088/7,921     |\n",
    "    | Feasibility Studies              | 15.1%         | 556/3,689       |\n",
    "    | Small Business Research Initiative | 16.9%         | 136/805         |\n",
    "\n",
    "    *(Note: Lower coverage for industry-focused grants is expected)*\n",
    "\n",
    "### Pipeline Output Example\n",
    "Let's first load the ORCID feature data to understand how the pipeline defines the features space."
   ]
  },
  {
   "cell_type": "code",
   "execution_count": 9,
   "metadata": {},
   "outputs": [
    {
     "data": {
      "text/html": [
       "<pre style=\"white-space:pre;overflow-x:auto;line-height:normal;font-family:Menlo,'DejaVu Sans Mono',consolas,'Courier New',monospace\"><span style=\"color: #7fbfbf; text-decoration-color: #7fbfbf\">[04/10/25 09:48:13] </span><span style=\"color: #000080; text-decoration-color: #000080\">INFO    </span> Loading data from <span style=\"color: #ff8700; text-decoration-color: #ff8700\">ad.orcid_labelled_feature_matrix.intermediate</span>    <a href=\"file:///home/dampudia/miniconda3/envs/.dsit_whoswho/lib/python3.13/site-packages/kedro/io/data_catalog.py\" target=\"_blank\"><span style=\"color: #7f7f7f; text-decoration-color: #7f7f7f\">data_catalog.py</span></a><span style=\"color: #7f7f7f; text-decoration-color: #7f7f7f\">:</span><a href=\"file:///home/dampudia/miniconda3/envs/.dsit_whoswho/lib/python3.13/site-packages/kedro/io/data_catalog.py#390\" target=\"_blank\"><span style=\"color: #7f7f7f; text-decoration-color: #7f7f7f\">390</span></a>\n",
       "<span style=\"color: #7fbfbf; text-decoration-color: #7fbfbf\">                    </span>         <span style=\"font-weight: bold\">(</span>ParquetDataset<span style=\"font-weight: bold\">)</span><span style=\"color: #808000; text-decoration-color: #808000\">...</span>                                                <span style=\"color: #7f7f7f; text-decoration-color: #7f7f7f\">                   </span>\n",
       "</pre>\n"
      ],
      "text/plain": [
       "\u001b[2;36m[04/10/25 09:48:13]\u001b[0m\u001b[2;36m \u001b[0m\u001b[34mINFO    \u001b[0m Loading data from \u001b[38;5;208mad.orcid_labelled_feature_matrix.intermediate\u001b[0m    \u001b]8;id=220901;file:///home/dampudia/miniconda3/envs/.dsit_whoswho/lib/python3.13/site-packages/kedro/io/data_catalog.py\u001b\\\u001b[2mdata_catalog.py\u001b[0m\u001b]8;;\u001b\\\u001b[2m:\u001b[0m\u001b]8;id=145091;file:///home/dampudia/miniconda3/envs/.dsit_whoswho/lib/python3.13/site-packages/kedro/io/data_catalog.py#390\u001b\\\u001b[2m390\u001b[0m\u001b]8;;\u001b\\\n",
       "\u001b[2;36m                    \u001b[0m         \u001b[1m(\u001b[0mParquetDataset\u001b[1m)\u001b[0m\u001b[33m...\u001b[0m                                                \u001b[2m                   \u001b[0m\n"
      ]
     },
     "metadata": {},
     "output_type": "display_data"
    }
   ],
   "source": [
    "# | output: false\n",
    "orcid_features = catalog.load(\"ad.orcid_labelled_feature_matrix.intermediate\")"
   ]
  },
  {
   "cell_type": "code",
   "execution_count": 26,
   "metadata": {},
   "outputs": [
    {
     "name": "stdout",
     "output_type": "stream",
     "text": [
      "Dataset shape: (597833, 45)\n",
      "\n",
      "Class distribution:\n",
      "is_match\n",
      "0    583344\n",
      "1     14489\n",
      "Name: count, dtype: int64\n",
      "\n",
      "Class distribution (normalized):\n",
      "is_match\n",
      "0    0.975764\n",
      "1    0.024236\n",
      "Name: proportion, dtype: float64\n",
      "\n",
      "First row with all features:\n"
     ]
    },
    {
     "data": {
      "text/html": [
       "<pre style=\"white-space:pre;overflow-x:auto;line-height:normal;font-family:Menlo,'DejaVu Sans Mono',consolas,'Courier New',monospace\"></pre>\n"
      ],
      "text/plain": []
     },
     "metadata": {},
     "output_type": "display_data"
    },
    {
     "data": {
      "text/plain": [
       "\n",
       "gtr_id                       \u001b[93mEA1E1EB1-31ED-4CCF-893D-ACC0B98012B1\u001b[0m\n",
       "oa_id                                                 A5074272633\n",
       "is_match                                                        \u001b[1;36m0\u001b[0m\n",
       "display_lev                                              \u001b[1;36m0.857143\u001b[0m\n",
       "display_jw                                               \u001b[1;36m0.971429\u001b[0m\n",
       "display_token                                                 \u001b[1;36m1.0\u001b[0m\n",
       "surname_match                                                   \u001b[1;36m1\u001b[0m\n",
       "first_initial_match                                             \u001b[1;36m1\u001b[0m\n",
       "full_first_match                                                \u001b[1;36m1\u001b[0m\n",
       "alt_lev_mean                                             \u001b[1;36m0.857143\u001b[0m\n",
       "alt_jw_mean                                              \u001b[1;36m0.971429\u001b[0m\n",
       "alt_token_mean                                                \u001b[1;36m1.0\u001b[0m\n",
       "alt_lev_max                                              \u001b[1;36m0.857143\u001b[0m\n",
       "alt_jw_max                                               \u001b[1;36m0.971429\u001b[0m\n",
       "alt_token_max                                                 \u001b[1;36m1.0\u001b[0m\n",
       "domain_jaccard                                                \u001b[1;36m0.5\u001b[0m\n",
       "domain_cosine                                            \u001b[1;36m0.894427\u001b[0m\n",
       "domain_js_div                                            \u001b[1;36m0.363736\u001b[0m\n",
       "domain_containment                                            \u001b[1;36m0.5\u001b[0m\n",
       "field_jaccard                                            \u001b[1;36m0.666667\u001b[0m\n",
       "field_cosine                                             \u001b[1;36m0.774597\u001b[0m\n",
       "field_js_div                                             \u001b[1;36m0.379264\u001b[0m\n",
       "field_containment                                        \u001b[1;36m0.666667\u001b[0m\n",
       "subfield_jaccard                                              \u001b[1;36m0.0\u001b[0m\n",
       "subfield_cosine                                               \u001b[1;36m0.0\u001b[0m\n",
       "subfield_js_div                                          \u001b[1;36m0.832555\u001b[0m\n",
       "subfield_containment                                          \u001b[1;36m0.0\u001b[0m\n",
       "topic_jaccard                                                 \u001b[1;36m0.0\u001b[0m\n",
       "topic_cosine                                                  \u001b[1;36m0.0\u001b[0m\n",
       "topic_js_div                                             \u001b[1;36m0.832555\u001b[0m\n",
       "topic_containment                                             \u001b[1;36m0.0\u001b[0m\n",
       "inst_jw_max                                                   NaN\n",
       "inst_token_max                                                NaN\n",
       "gb_affiliation_proportion                                     NaN\n",
       "has_gb_affiliation                                            NaN\n",
       "inst_child_jw_max                                             NaN\n",
       "inst_child_token_max                                          NaN\n",
       "has_gb_associated                                             NaN\n",
       "publication_coverage                                          NaN\n",
       "author_proportion                                             NaN\n",
       "works_count                                                     \u001b[1;36m1\u001b[0m\n",
       "cited_by_count                                                 \u001b[1;36m64\u001b[0m\n",
       "h_index                                                         \u001b[1;36m1\u001b[0m\n",
       "i10_index                                                       \u001b[1;36m1\u001b[0m\n",
       "citations_per_work                                           \u001b[1;36m64.0\u001b[0m\n",
       "Name: \u001b[1;36m270924\u001b[0m, dtype: object"
      ]
     },
     "metadata": {},
     "output_type": "display_data"
    }
   ],
   "source": [
    "# | code-fold: true\n",
    "# Display basic info about the dataset\n",
    "print(\"Dataset shape:\", orcid_features.shape)\n",
    "print(\"\\nClass distribution:\")\n",
    "print(orcid_features[\"is_match\"].value_counts())\n",
    "print(\"\\nClass distribution (normalized):\")\n",
    "print(orcid_features[\"is_match\"].value_counts(normalize=True))\n",
    "\n",
    "print(\"\\nFirst row with all features:\")\n",
    "display(orcid_features.sample(1).iloc[0])"
   ]
  },
  {
   "cell_type": "markdown",
   "metadata": {},
   "source": [
    "The main output is a table linking GtR person IDs to the best-matching OpenAlex author ID, along with the match probability. Let's load the matched authors, which includes the model's `match_probability`."
   ]
  },
  {
   "cell_type": "code",
   "execution_count": 11,
   "metadata": {},
   "outputs": [
    {
     "data": {
      "text/html": [
       "<pre style=\"white-space:pre;overflow-x:auto;line-height:normal;font-family:Menlo,'DejaVu Sans Mono',consolas,'Courier New',monospace\"><span style=\"color: #7fbfbf; text-decoration-color: #7fbfbf\">[04/10/25 09:48:22] </span><span style=\"color: #000080; text-decoration-color: #000080\">INFO    </span> Loading data from <span style=\"color: #ff8700; text-decoration-color: #ff8700\">ad.matched_authors.primary</span> <span style=\"font-weight: bold\">(</span>ParquetDataset<span style=\"font-weight: bold\">)</span><span style=\"color: #808000; text-decoration-color: #808000\">...</span>   <a href=\"file:///home/dampudia/miniconda3/envs/.dsit_whoswho/lib/python3.13/site-packages/kedro/io/data_catalog.py\" target=\"_blank\"><span style=\"color: #7f7f7f; text-decoration-color: #7f7f7f\">data_catalog.py</span></a><span style=\"color: #7f7f7f; text-decoration-color: #7f7f7f\">:</span><a href=\"file:///home/dampudia/miniconda3/envs/.dsit_whoswho/lib/python3.13/site-packages/kedro/io/data_catalog.py#390\" target=\"_blank\"><span style=\"color: #7f7f7f; text-decoration-color: #7f7f7f\">390</span></a>\n",
       "</pre>\n"
      ],
      "text/plain": [
       "\u001b[2;36m[04/10/25 09:48:22]\u001b[0m\u001b[2;36m \u001b[0m\u001b[34mINFO    \u001b[0m Loading data from \u001b[38;5;208mad.matched_authors.primary\u001b[0m \u001b[1m(\u001b[0mParquetDataset\u001b[1m)\u001b[0m\u001b[33m...\u001b[0m   \u001b]8;id=762273;file:///home/dampudia/miniconda3/envs/.dsit_whoswho/lib/python3.13/site-packages/kedro/io/data_catalog.py\u001b\\\u001b[2mdata_catalog.py\u001b[0m\u001b]8;;\u001b\\\u001b[2m:\u001b[0m\u001b]8;id=599843;file:///home/dampudia/miniconda3/envs/.dsit_whoswho/lib/python3.13/site-packages/kedro/io/data_catalog.py#390\u001b\\\u001b[2m390\u001b[0m\u001b]8;;\u001b\\\n"
      ]
     },
     "metadata": {},
     "output_type": "display_data"
    }
   ],
   "source": [
    "# | output: false\n",
    "matched_authors = catalog.load(\"ad.matched_authors.primary\")"
   ]
  },
  {
   "cell_type": "code",
   "execution_count": 12,
   "metadata": {},
   "outputs": [
    {
     "data": {
      "text/html": [
       "<pre style=\"white-space:pre;overflow-x:auto;line-height:normal;font-family:Menlo,'DejaVu Sans Mono',consolas,'Courier New',monospace\"></pre>\n"
      ],
      "text/plain": []
     },
     "metadata": {},
     "output_type": "display_data"
    },
    {
     "data": {
      "text/html": [
       "<div>\n",
       "<style scoped>\n",
       "    .dataframe tbody tr th:only-of-type {\n",
       "        vertical-align: middle;\n",
       "    }\n",
       "\n",
       "    .dataframe tbody tr th {\n",
       "        vertical-align: top;\n",
       "    }\n",
       "\n",
       "    .dataframe thead th {\n",
       "        text-align: right;\n",
       "    }\n",
       "</style>\n",
       "<table border=\"1\" class=\"dataframe\">\n",
       "  <thead>\n",
       "    <tr style=\"text-align: right;\">\n",
       "      <th></th>\n",
       "      <th>gtr_id</th>\n",
       "      <th>oa_id</th>\n",
       "      <th>match_probability</th>\n",
       "      <th>id</th>\n",
       "      <th>orcid</th>\n",
       "      <th>display_name</th>\n",
       "      <th>display_name_alternatives</th>\n",
       "      <th>works_count</th>\n",
       "      <th>cited_by_count</th>\n",
       "      <th>h_index</th>\n",
       "      <th>i10_index</th>\n",
       "      <th>topics</th>\n",
       "      <th>gtr_author_name</th>\n",
       "      <th>name_match_score</th>\n",
       "      <th>institution_names</th>\n",
       "      <th>has_gb_affiliation</th>\n",
       "      <th>gb_affiliation_proportion</th>\n",
       "      <th>associated_institution_names</th>\n",
       "      <th>has_gb_associated</th>\n",
       "    </tr>\n",
       "  </thead>\n",
       "  <tbody>\n",
       "    <tr>\n",
       "      <th>0</th>\n",
       "      <td>0014394C-5B8D-4475-A74A-41C2272F8061</td>\n",
       "      <td>A5008934318</td>\n",
       "      <td>0.999874</td>\n",
       "      <td>A5008934318</td>\n",
       "      <td>0000-0001-7695-9208</td>\n",
       "      <td>Hazel Conley</td>\n",
       "      <td>[Hazel. Conley, Hazel Margot Conley, H. Conley, Hazel M. Conley]</td>\n",
       "      <td>57</td>\n",
       "      <td>650</td>\n",
       "      <td>16</td>\n",
       "      <td>24</td>\n",
       "      <td>[[T11421, Labor Movements and Unions, 25, subfields/3321, Public Administration, fields/33, Social Sciences, domains/2, Social Sciences], [T10443, Social Po...</td>\n",
       "      <td>Hazel Conley</td>\n",
       "      <td>1.000000</td>\n",
       "      <td>[University of the West of England, Queen Mary University of London, London School of Business and Management, Cardiff University]</td>\n",
       "      <td>True</td>\n",
       "      <td>1.0</td>\n",
       "      <td>[Hartpury University, Frenchay Hospital, Royal United Hospital, William Harvey Research Institute, University of London, Broomfield Hospital, Moorfields Eye...</td>\n",
       "      <td>True</td>\n",
       "    </tr>\n",
       "    <tr>\n",
       "      <th>1</th>\n",
       "      <td>0021BF58-F3F1-43F3-8C81-470480622745</td>\n",
       "      <td>A5054332135</td>\n",
       "      <td>0.998462</td>\n",
       "      <td>A5054332135</td>\n",
       "      <td>None</td>\n",
       "      <td>Andrew J. Counter</td>\n",
       "      <td>[Andrew J. Counter, Andrew Counter, A. Counter, A. J. Counter]</td>\n",
       "      <td>69</td>\n",
       "      <td>118</td>\n",
       "      <td>4</td>\n",
       "      <td>2</td>\n",
       "      <td>[[T13641, Historical Studies and Socio-cultural Analysis, 21, subfields/1207, History and Philosophy of Science, fields/12, Arts and Humanities, domains/2, ...</td>\n",
       "      <td>Andrew Counter</td>\n",
       "      <td>0.962963</td>\n",
       "      <td>[New College, University of Oxford, King's College London, Canisius College, St. John's College of Nursing, Christ University]</td>\n",
       "      <td>True</td>\n",
       "      <td>0.5</td>\n",
       "      <td>[CRUK/MRC Oxford Institute for Radiation Oncology, Cancer Research UK Oxford Centre, Centre for Human Genetics, Centre for the Observation and Modelling of ...</td>\n",
       "      <td>True</td>\n",
       "    </tr>\n",
       "  </tbody>\n",
       "</table>\n",
       "</div>"
      ],
      "text/plain": [
       "\n",
       "                                 gtr_id        oa_id  match_probability  \\\n",
       "\u001b[1;36m0\u001b[0m  \u001b[93m0014394C-5B8D-4475-A74A-41C2272F8061\u001b[0m  A5008934318           \u001b[1;36m0.999874\u001b[0m   \n",
       "\u001b[1;36m1\u001b[0m  \u001b[93m0021BF58-F3F1-43F3-8C81-470480622745\u001b[0m  A5054332135           \u001b[1;36m0.998462\u001b[0m   \n",
       "\n",
       "            id                orcid       display_name  \\\n",
       "\u001b[1;36m0\u001b[0m  A5008934318  \u001b[1;36m0000\u001b[0m-\u001b[1;36m0001\u001b[0m-\u001b[1;36m7695\u001b[0m-\u001b[1;36m9208\u001b[0m       Hazel Conley   \n",
       "\u001b[1;36m1\u001b[0m  A5054332135                 \u001b[3;35mNone\u001b[0m  Andrew J. Counter   \n",
       "\n",
       "                                          display_name_alternatives  \\\n",
       "\u001b[1;36m0\u001b[0m  \u001b[1m[\u001b[0mHazel. Conley, Hazel Margot Conley, H. Conley, Hazel M. Conley\u001b[1m]\u001b[0m   \n",
       "\u001b[1;36m1\u001b[0m    \u001b[1m[\u001b[0mAndrew J. Counter, Andrew Counter, A. Counter, A. J. Counter\u001b[1m]\u001b[0m   \n",
       "\n",
       "   works_count  cited_by_count  h_index  i10_index  \\\n",
       "\u001b[1;36m0\u001b[0m           \u001b[1;36m57\u001b[0m             \u001b[1;36m650\u001b[0m       \u001b[1;36m16\u001b[0m         \u001b[1;36m24\u001b[0m   \n",
       "\u001b[1;36m1\u001b[0m           \u001b[1;36m69\u001b[0m             \u001b[1;36m118\u001b[0m        \u001b[1;36m4\u001b[0m          \u001b[1;36m2\u001b[0m   \n",
       "\n",
       "                                                                                                                                                            topics  \\\n",
       "\u001b[1;36m0\u001b[0m  \u001b[1m[\u001b[0m\u001b[1m[\u001b[0mT11421, Labor Movements and Unions, \u001b[1;36m25\u001b[0m, subfields/\u001b[1;36m3321\u001b[0m, Public Administration, fields/\u001b[1;36m33\u001b[0m, Social Sciences, domains/\u001b[1;36m2\u001b[0m, Social Sciences\u001b[1m]\u001b[0m, \u001b[1m[\u001b[0mT10443, Social Po\u001b[33m...\u001b[0m\n",
       "\u001b[1;36m1\u001b[0m  \u001b[1m[\u001b[0m\u001b[1m[\u001b[0mT13641, Historical Studies and Socio-cultural Analysis, \u001b[1;36m21\u001b[0m, subfields/\u001b[1;36m1207\u001b[0m, History and Philosophy of Science, fields/\u001b[1;36m12\u001b[0m, Arts and Humanities, domains/\u001b[1;36m2\u001b[0m, \u001b[33m...\u001b[0m\n",
       "\n",
       "  gtr_author_name  name_match_score  \\\n",
       "\u001b[1;36m0\u001b[0m    Hazel Conley          \u001b[1;36m1.000000\u001b[0m   \n",
       "\u001b[1;36m1\u001b[0m  Andrew Counter          \u001b[1;36m0.962963\u001b[0m   \n",
       "\n",
       "                                                                                                                    institution_names  \\\n",
       "\u001b[1;36m0\u001b[0m  \u001b[1m[\u001b[0mUniversity of the West of England, Queen Mary University of London, London School of Business and Management, Cardiff University\u001b[1m]\u001b[0m\n",
       "\u001b[1;36m1\u001b[0m      \u001b[1m[\u001b[0mNew College, University of Oxford, King's College London, Canisius College, St. John's College of Nursing, Christ University\u001b[1m]\u001b[0m\n",
       "\n",
       "   has_gb_affiliation  gb_affiliation_proportion  \\\n",
       "\u001b[1;36m0\u001b[0m                \u001b[3;92mTrue\u001b[0m                        \u001b[1;36m1.0\u001b[0m   \n",
       "\u001b[1;36m1\u001b[0m                \u001b[3;92mTrue\u001b[0m                        \u001b[1;36m0.5\u001b[0m   \n",
       "\n",
       "                                                                                                                                      associated_institution_names  \\\n",
       "\u001b[1;36m0\u001b[0m  \u001b[1m[\u001b[0mHartpury University, Frenchay Hospital, Royal United Hospital, William Harvey Research Institute, University of London, Broomfield Hospital, Moorfields Eye\u001b[33m...\u001b[0m\n",
       "\u001b[1;36m1\u001b[0m  \u001b[1m[\u001b[0mCRUK/MRC Oxford Institute for Radiation Oncology, Cancer Research UK Oxford Centre, Centre for Human Genetics, Centre for the Observation and Modelling of \u001b[33m...\u001b[0m\n",
       "\n",
       "   has_gb_associated  \n",
       "\u001b[1;36m0\u001b[0m               \u001b[3;92mTrue\u001b[0m  \n",
       "\u001b[1;36m1\u001b[0m               \u001b[3;92mTrue\u001b[0m  "
      ]
     },
     "metadata": {},
     "output_type": "display_data"
    }
   ],
   "source": [
    "# | code-fold: true\n",
    "display(matched_authors.head(2))"
   ]
  },
  {
   "cell_type": "markdown",
   "metadata": {},
   "source": [
    "Detailed predictive metrics and coverage analysis are available in a JSON format through the catalog object `ad.coverage_analysis.tmp`. This includes model performance statistics and breakdowns of matching coverage across different project types."
   ]
  },
  {
   "cell_type": "markdown",
   "metadata": {},
   "source": [
    "\n",
    "## 4. Basic Metrics Analysis (`data_analysis_basic_metrics`)\n",
    "\n",
    "This pipeline calculates standard bibliometric and career-related indicators for the matched researchers, combining data from OpenAlex and GtR.\n",
    "\n",
    "**Purpose**: To provide fundamental quantitative measures of research output, impact, collaboration patterns, and career progression, often comparing metrics before and after the researcher received their first GtR grant.\n",
    "\n",
    "**Pipeline Overview**:\n",
    "\n",
    "The pipeline operates in several stages:\n",
    "\n",
    "1.  **Data Integration and Preprocessing**: Processes OpenAlex author metadata, GtR person/project data, and publication data for the matched authors.\n",
    "2.  **Metric Computation**: Orchestrated by the `compute_basic_metrics` function, this stage calculates various metrics, including:\n",
    "    *   Author metadata processing (first publication year, citation metrics)\n",
    "    *   Academic age calculation\n",
    "    *   Grant processing (aggregation of categories, funders, timelines)\n",
    "    *   International metrics (affiliation analysis, time abroad)\n",
    "    *   Collaboration metrics (analysis before/after first grant, collaborator counts)\n",
    "\n",
    "**Key Metrics Calculated**:\n",
    "\n",
    "The pipeline generates a wide range of metrics, detailed in the tables below. Many metrics are computed separately for the periods *before* and *after* the researcher's first recorded GtR grant start date.\n",
    "\n",
    "**Identifiers & Basic Info**\n",
    "\n",
    "| Variable                  | Description                     | Type         |\n",
    "| :------------------------ | :------------------------------ | :----------- |\n",
    "| `oa_id`                   | OpenAlex unique identifier      | string       |\n",
    "| `orcid`                   | ORCID identifier                | string       |\n",
    "| `display_name`            | Full name from OpenAlex         | string       |\n",
    "| `display_name_alternatives` | Alternative names               | list[string] |\n",
    "| `first_name`              | First name from GTR             | string       |\n",
    "| `surname`                 | Surname from GTR                | string       |\n",
    "| `gtr_person_id`           | GTR person ID                   | string       |\n",
    "| `match_probability`       | Probability of correct matching | float        |\n",
    "\n",
    "\n",
    "**Current Institutional Information**\n",
    "\n",
    "| Variable                      | Description                               | Type         |\n",
    "| :---------------------------- | :---------------------------------------- | :----------- |\n",
    "| `gtr_organisation`          | Current GTR organisation ID             | string       |\n",
    "| `gtr_organisation_name`     | Current GTR organisation name           | string       |\n",
    "| `last_known_institutions`   | List of last known institutions         | list[list]   |\n",
    "| `last_known_institution_uk` | Whether last known institution is in UK | boolean      |\n",
    "\n",
    "\n",
    "**Academic Profile & Metrics**\n",
    "\n",
    "| Variable                      | Description                                              | Type       |\n",
    "| :---------------------------- | :------------------------------------------------------- | :--------- |\n",
    "| `works_count`                 | Total number of works                                    | integer    |\n",
    "| `cited_by_count`              | Total citations                                          | integer    |\n",
    "| `citations_per_publication` | Average citations per publication                      | float      |\n",
    "| `h_index`                     | H-index                                                  | integer    |\n",
    "| `i10_index`                   | i10-index                                                | integer    |\n",
    "| `first_work_year`             | First publication year                                   | integer    |\n",
    "| `academic_age_at_first_grant` | Academic age when receiving first grant                  | integer    |\n",
    "| `topics`                      | Research topics                                          | list[list] |\n",
    "| `affiliations`                | Historical affiliations                                  | list[list] |\n",
    "| `counts_by_year`              | Pub counts/citations by *citation year* (OA, <=2012)     | list[list] |\n",
    "| `counts_by_pubyear`           | Pub counts/citations by *publication year* (OA, full) | list[list] |\n",
    "\n",
    "\n",
    "**Note on Citation Counting Methods**\n",
    "\n",
    "The pipeline uses two different approaches to count citations, reflected in `counts_by_year` and `counts_by_pubyear`:\n",
    "\n",
    "1.  **Publication Year Based (`counts_by_pubyear`)**: Citations are attributed to the year the cited paper was published. This method provides complete time coverage and is primarily used for the before/after grant comparisons in this pipeline.\n",
    "2.  **Citation Year Based (`counts_by_year`)**: Citations are attributed to the year the citation occurred. This gives a more accurate view of *when* impact happened but is limited by OpenAlex data availability (only up to 2012 at the time of pipeline creation). Its use for before/after comparisons is limited.\n",
    "\n",
    "Both metrics are retained in the final dataset where available.\n",
    "\n",
    "\n",
    "**Grant Information**\n",
    "\n",
    "| Variable                     | Description                       | Type         |\n",
    "| :--------------------------- | :-------------------------------- | :----------- |\n",
    "| `earliest_start_date`        | First grant start date            | date         |\n",
    "| `latest_end_date`          | Last grant end date               | date         |\n",
    "| `has_active_project`         | Whether has active projects       | boolean      |\n",
    "| `number_grants`            | Total number of grants            | integer      |\n",
    "| `has_multiple_funders`     | Whether has multiple funders      | boolean      |\n",
    "| `grant_categories`         | List of grant categories          | list[list]   |\n",
    "| `lead_funders`             | List of lead funders              | list[list]   |\n",
    "| `gtr_project_timeline`       | Detailed project timeline         | list[list]   |\n",
    "| `gtr_project_id`           | GTR project IDs                   | list[string] |\n",
    "| `gtr_project_publications` | Project-linked publications       | list[string] |\n",
    "| `gtr_project_topics`       | Project-specific topics           | list[list]   |\n",
    "| `gtr_project_oa_authors`   | Project OpenAlex authors          | list[string] |\n",
    "| `gtr_project_oa_ids`       | Project OpenAlex IDs              | list[string] |\n",
    "\n",
    "\n",
    "**Publication Metrics (Before/After First Grant)**\n",
    "\n",
    "(Based primarily on `counts_by_pubyear`)\n",
    "\n",
    "| Variable                        | Description                              | Type    |\n",
    "| :------------------------------ | :--------------------------------------- | :------ |\n",
    "| `n_pubs_before`                 | Number of publications before            | integer |\n",
    "| `n_pubs_after`                  | Number of publications after             | integer |\n",
    "| `total_citations_pubyear_before` | Total citations (by pub year) before     | integer |\n",
    "| `total_citations_pubyear_after`  | Total citations (by pub year) after      | integer |\n",
    "| `mean_citations_pubyear_before`  | Mean citations (by pub year) before      | float   |\n",
    "| `mean_citations_pubyear_after`   | Mean citations (by pub year) after       | float   |\n",
    "| `citations_pp_pubyear_before`   | Citations per pub (by pub year) before   | float   |\n",
    "| `citations_pp_pubyear_after`    | Citations per pub (by pub year) after    | float   |\n",
    "| `mean_citations_before`         | Mean citations before                    | float   |\n",
    "| `mean_citations_after`          | Mean citations after                     | float   |\n",
    "| `citations_pp_before`           | Citations per pub before                 | float   |\n",
    "| `citations_pp_after`            | Citations per pub after                  | float   |\n",
    "| `mean_fwci_before`              | Mean Field-Weighted Citation Impact before | float   |\n",
    "| `mean_fwci_after`               | Mean Field-Weighted Citation Impact after  | float   |\n",
    "\n",
    "\n",
    "**International Experience Metrics (Before/After First Grant)**\n",
    "\n",
    "| Variable                   | Description                                | Type         |\n",
    "| :------------------------- | :----------------------------------------- | :----------- |\n",
    "| `abroad_experience_before` | Had international experience before        | boolean      |\n",
    "| `abroad_experience_after`  | Had international experience after         | boolean      |\n",
    "| `countries_before`         | Countries worked in before                 | list[string] |\n",
    "| `countries_after`          | Countries worked in after                  | list[string] |\n",
    "| `abroad_fraction_before`   | Fraction of time affiliated abroad before  | float        |\n",
    "| `abroad_fraction_after`    | Fraction of time affiliated abroad after   | float        |\n",
    "\n",
    "\n",
    "**Collaboration Metrics (Before/After First Grant)**\n",
    "\n",
    "| Variable                         | Description                                 | Type         |\n",
    "| :------------------------------- | :------------------------------------------ | :----------- |\n",
    "| `collab_countries_before`        | Collaboration countries with counts before  | list[list]   |\n",
    "| `collab_countries_after`         | Collaboration countries with counts after   | list[list]   |\n",
    "| `collab_countries_list_before` | List of collaboration countries before      | list[string] |\n",
    "| `collab_countries_list_after`  | List of collaboration countries after       | list[string] |\n",
    "| `unique_collabs_before`        | Unique collaborators before                 | integer      |\n",
    "| `unique_collabs_after`         | Unique collaborators after                  | integer      |\n",
    "| `total_collabs_before`         | Total collaborations before                 | integer      |\n",
    "| `total_collabs_after`          | Total collaborations after                  | integer      |\n",
    "| `foreign_collab_fraction_before` | Fraction of foreign collaborations before | float        |\n",
    "| `foreign_collab_fraction_after`  | Fraction of foreign collaborations after  | float        |\n"
   ]
  },
  {
   "cell_type": "markdown",
   "metadata": {},
   "source": [
    "### Pipeline Output Example\n",
    "These metrics are typically added to the main author table. We can display some examples from the `final_metrics` dataset loaded earlier."
   ]
  },
  {
   "cell_type": "code",
   "execution_count": 13,
   "metadata": {},
   "outputs": [
    {
     "data": {
      "text/html": [
       "<pre style=\"white-space:pre;overflow-x:auto;line-height:normal;font-family:Menlo,'DejaVu Sans Mono',consolas,'Courier New',monospace\"><span style=\"color: #7fbfbf; text-decoration-color: #7fbfbf\">[04/10/25 09:48:37] </span><span style=\"color: #000080; text-decoration-color: #000080\">INFO    </span> Loading data from <span style=\"color: #ff8700; text-decoration-color: #ff8700\">analysis.basic_metrics.primary</span>                   <a href=\"file:///home/dampudia/miniconda3/envs/.dsit_whoswho/lib/python3.13/site-packages/kedro/io/data_catalog.py\" target=\"_blank\"><span style=\"color: #7f7f7f; text-decoration-color: #7f7f7f\">data_catalog.py</span></a><span style=\"color: #7f7f7f; text-decoration-color: #7f7f7f\">:</span><a href=\"file:///home/dampudia/miniconda3/envs/.dsit_whoswho/lib/python3.13/site-packages/kedro/io/data_catalog.py#390\" target=\"_blank\"><span style=\"color: #7f7f7f; text-decoration-color: #7f7f7f\">390</span></a>\n",
       "<span style=\"color: #7fbfbf; text-decoration-color: #7fbfbf\">                    </span>         <span style=\"font-weight: bold\">(</span>ParquetDataset<span style=\"font-weight: bold\">)</span><span style=\"color: #808000; text-decoration-color: #808000\">...</span>                                                <span style=\"color: #7f7f7f; text-decoration-color: #7f7f7f\">                   </span>\n",
       "</pre>\n"
      ],
      "text/plain": [
       "\u001b[2;36m[04/10/25 09:48:37]\u001b[0m\u001b[2;36m \u001b[0m\u001b[34mINFO    \u001b[0m Loading data from \u001b[38;5;208manalysis.basic_metrics.primary\u001b[0m                   \u001b]8;id=114400;file:///home/dampudia/miniconda3/envs/.dsit_whoswho/lib/python3.13/site-packages/kedro/io/data_catalog.py\u001b\\\u001b[2mdata_catalog.py\u001b[0m\u001b]8;;\u001b\\\u001b[2m:\u001b[0m\u001b]8;id=471940;file:///home/dampudia/miniconda3/envs/.dsit_whoswho/lib/python3.13/site-packages/kedro/io/data_catalog.py#390\u001b\\\u001b[2m390\u001b[0m\u001b]8;;\u001b\\\n",
       "\u001b[2;36m                    \u001b[0m         \u001b[1m(\u001b[0mParquetDataset\u001b[1m)\u001b[0m\u001b[33m...\u001b[0m                                                \u001b[2m                   \u001b[0m\n"
      ]
     },
     "metadata": {},
     "output_type": "display_data"
    }
   ],
   "source": [
    "# | output: false\n",
    "basic_metrics = catalog.load(\"analysis.basic_metrics.primary\")"
   ]
  },
  {
   "cell_type": "code",
   "execution_count": 14,
   "metadata": {},
   "outputs": [
    {
     "name": "stdout",
     "output_type": "stream",
     "text": [
      "\n",
      "Example Basic Metrics:\n"
     ]
    },
    {
     "data": {
      "text/html": [
       "<pre style=\"white-space:pre;overflow-x:auto;line-height:normal;font-family:Menlo,'DejaVu Sans Mono',consolas,'Courier New',monospace\"></pre>\n"
      ],
      "text/plain": []
     },
     "metadata": {},
     "output_type": "display_data"
    },
    {
     "data": {
      "text/html": [
       "<div>\n",
       "<style scoped>\n",
       "    .dataframe tbody tr th:only-of-type {\n",
       "        vertical-align: middle;\n",
       "    }\n",
       "\n",
       "    .dataframe tbody tr th {\n",
       "        vertical-align: top;\n",
       "    }\n",
       "\n",
       "    .dataframe thead th {\n",
       "        text-align: right;\n",
       "    }\n",
       "</style>\n",
       "<table border=\"1\" class=\"dataframe\">\n",
       "  <thead>\n",
       "    <tr style=\"text-align: right;\">\n",
       "      <th></th>\n",
       "      <th>oa_id</th>\n",
       "      <th>display_name</th>\n",
       "      <th>works_count</th>\n",
       "      <th>cited_by_count</th>\n",
       "      <th>citations_per_publication</th>\n",
       "      <th>h_index</th>\n",
       "      <th>i10_index</th>\n",
       "    </tr>\n",
       "  </thead>\n",
       "  <tbody>\n",
       "    <tr>\n",
       "      <th>64299</th>\n",
       "      <td>A5043849805</td>\n",
       "      <td>Andrew Jahoda</td>\n",
       "      <td>230</td>\n",
       "      <td>4506</td>\n",
       "      <td>19.591304</td>\n",
       "      <td>36</td>\n",
       "      <td>98</td>\n",
       "    </tr>\n",
       "    <tr>\n",
       "      <th>41046</th>\n",
       "      <td>A5081261971</td>\n",
       "      <td>David R. Garrod</td>\n",
       "      <td>241</td>\n",
       "      <td>13096</td>\n",
       "      <td>54.340249</td>\n",
       "      <td>64</td>\n",
       "      <td>163</td>\n",
       "    </tr>\n",
       "    <tr>\n",
       "      <th>73710</th>\n",
       "      <td>A5020989903</td>\n",
       "      <td>Emma V. King</td>\n",
       "      <td>186</td>\n",
       "      <td>3260</td>\n",
       "      <td>17.526882</td>\n",
       "      <td>25</td>\n",
       "      <td>36</td>\n",
       "    </tr>\n",
       "  </tbody>\n",
       "</table>\n",
       "</div>"
      ],
      "text/plain": [
       "\n",
       "             oa_id     display_name  works_count  cited_by_count  \\\n",
       "\u001b[1;36m64299\u001b[0m  A5043849805    Andrew Jahoda          \u001b[1;36m230\u001b[0m            \u001b[1;36m4506\u001b[0m   \n",
       "\u001b[1;36m41046\u001b[0m  A5081261971  David R. Garrod          \u001b[1;36m241\u001b[0m           \u001b[1;36m13096\u001b[0m   \n",
       "\u001b[1;36m73710\u001b[0m  A5020989903     Emma V. King          \u001b[1;36m186\u001b[0m            \u001b[1;36m3260\u001b[0m   \n",
       "\n",
       "       citations_per_publication  h_index  i10_index  \n",
       "\u001b[1;36m64299\u001b[0m                  \u001b[1;36m19.591304\u001b[0m       \u001b[1;36m36\u001b[0m         \u001b[1;36m98\u001b[0m  \n",
       "\u001b[1;36m41046\u001b[0m                  \u001b[1;36m54.340249\u001b[0m       \u001b[1;36m64\u001b[0m        \u001b[1;36m163\u001b[0m  \n",
       "\u001b[1;36m73710\u001b[0m                  \u001b[1;36m17.526882\u001b[0m       \u001b[1;36m25\u001b[0m         \u001b[1;36m36\u001b[0m  "
      ]
     },
     "metadata": {},
     "output_type": "display_data"
    },
    {
     "name": "stdout",
     "output_type": "stream",
     "text": [
      "\n",
      "Before/After Grant Metrics:\n"
     ]
    },
    {
     "data": {
      "text/html": [
       "<pre style=\"white-space:pre;overflow-x:auto;line-height:normal;font-family:Menlo,'DejaVu Sans Mono',consolas,'Courier New',monospace\"></pre>\n"
      ],
      "text/plain": []
     },
     "metadata": {},
     "output_type": "display_data"
    },
    {
     "data": {
      "text/html": [
       "<div>\n",
       "<style scoped>\n",
       "    .dataframe tbody tr th:only-of-type {\n",
       "        vertical-align: middle;\n",
       "    }\n",
       "\n",
       "    .dataframe tbody tr th {\n",
       "        vertical-align: top;\n",
       "    }\n",
       "\n",
       "    .dataframe thead th {\n",
       "        text-align: right;\n",
       "    }\n",
       "</style>\n",
       "<table border=\"1\" class=\"dataframe\">\n",
       "  <thead>\n",
       "    <tr style=\"text-align: right;\">\n",
       "      <th></th>\n",
       "      <th>oa_id</th>\n",
       "      <th>display_name</th>\n",
       "      <th>n_pubs_before</th>\n",
       "      <th>n_pubs_after</th>\n",
       "      <th>mean_citations_pubyear_before</th>\n",
       "      <th>mean_citations_pubyear_after</th>\n",
       "    </tr>\n",
       "  </thead>\n",
       "  <tbody>\n",
       "    <tr>\n",
       "      <th>82720</th>\n",
       "      <td>A5105470222</td>\n",
       "      <td>Ralph Burton</td>\n",
       "      <td>7</td>\n",
       "      <td>28</td>\n",
       "      <td>2.000</td>\n",
       "      <td>8.400</td>\n",
       "    </tr>\n",
       "    <tr>\n",
       "      <th>34330</th>\n",
       "      <td>A5101536117</td>\n",
       "      <td>Daniel George</td>\n",
       "      <td>&lt;NA&gt;</td>\n",
       "      <td>3</td>\n",
       "      <td>NaN</td>\n",
       "      <td>1.333</td>\n",
       "    </tr>\n",
       "    <tr>\n",
       "      <th>61370</th>\n",
       "      <td>A5083595167</td>\n",
       "      <td>Simon H. Reed</td>\n",
       "      <td>39</td>\n",
       "      <td>45</td>\n",
       "      <td>107.385</td>\n",
       "      <td>33.692</td>\n",
       "    </tr>\n",
       "  </tbody>\n",
       "</table>\n",
       "</div>"
      ],
      "text/plain": [
       "\n",
       "             oa_id   display_name  n_pubs_before  n_pubs_after  \\\n",
       "\u001b[1;36m82720\u001b[0m  A5105470222   Ralph Burton              \u001b[1;36m7\u001b[0m            \u001b[1;36m28\u001b[0m   \n",
       "\u001b[1;36m34330\u001b[0m  A5101536117  Daniel George           \u001b[1m<\u001b[0m\u001b[1;95mNA\u001b[0m\u001b[1m>\u001b[0m             \u001b[1;36m3\u001b[0m   \n",
       "\u001b[1;36m61370\u001b[0m  A5083595167  Simon H. Reed             \u001b[1;36m39\u001b[0m            \u001b[1;36m45\u001b[0m   \n",
       "\n",
       "       mean_citations_pubyear_before  mean_citations_pubyear_after  \n",
       "\u001b[1;36m82720\u001b[0m                          \u001b[1;36m2.000\u001b[0m                         \u001b[1;36m8.400\u001b[0m  \n",
       "\u001b[1;36m34330\u001b[0m                            NaN                         \u001b[1;36m1.333\u001b[0m  \n",
       "\u001b[1;36m61370\u001b[0m                        \u001b[1;36m107.385\u001b[0m                        \u001b[1;36m33.692\u001b[0m  "
      ]
     },
     "metadata": {},
     "output_type": "display_data"
    },
    {
     "name": "stdout",
     "output_type": "stream",
     "text": [
      "\n",
      "International Experience Metrics:\n"
     ]
    },
    {
     "data": {
      "text/html": [
       "<pre style=\"white-space:pre;overflow-x:auto;line-height:normal;font-family:Menlo,'DejaVu Sans Mono',consolas,'Courier New',monospace\"></pre>\n"
      ],
      "text/plain": []
     },
     "metadata": {},
     "output_type": "display_data"
    },
    {
     "data": {
      "text/html": [
       "<div>\n",
       "<style scoped>\n",
       "    .dataframe tbody tr th:only-of-type {\n",
       "        vertical-align: middle;\n",
       "    }\n",
       "\n",
       "    .dataframe tbody tr th {\n",
       "        vertical-align: top;\n",
       "    }\n",
       "\n",
       "    .dataframe thead th {\n",
       "        text-align: right;\n",
       "    }\n",
       "</style>\n",
       "<table border=\"1\" class=\"dataframe\">\n",
       "  <thead>\n",
       "    <tr style=\"text-align: right;\">\n",
       "      <th></th>\n",
       "      <th>oa_id</th>\n",
       "      <th>display_name</th>\n",
       "      <th>abroad_experience_before</th>\n",
       "      <th>abroad_experience_after</th>\n",
       "      <th>abroad_fraction_before</th>\n",
       "      <th>abroad_fraction_after</th>\n",
       "    </tr>\n",
       "  </thead>\n",
       "  <tbody>\n",
       "    <tr>\n",
       "      <th>63358</th>\n",
       "      <td>A5065151012</td>\n",
       "      <td>Neville Wylie</td>\n",
       "      <td>True</td>\n",
       "      <td>True</td>\n",
       "      <td>0.062</td>\n",
       "      <td>0.111</td>\n",
       "    </tr>\n",
       "    <tr>\n",
       "      <th>79779</th>\n",
       "      <td>A5035601896</td>\n",
       "      <td>Emma Barrett</td>\n",
       "      <td>False</td>\n",
       "      <td>True</td>\n",
       "      <td>0.000</td>\n",
       "      <td>0.474</td>\n",
       "    </tr>\n",
       "    <tr>\n",
       "      <th>70272</th>\n",
       "      <td>A5018389548</td>\n",
       "      <td>Charlotte Greene</td>\n",
       "      <td>None</td>\n",
       "      <td>None</td>\n",
       "      <td>NaN</td>\n",
       "      <td>NaN</td>\n",
       "    </tr>\n",
       "  </tbody>\n",
       "</table>\n",
       "</div>"
      ],
      "text/plain": [
       "\n",
       "             oa_id      display_name abroad_experience_before  \\\n",
       "\u001b[1;36m63358\u001b[0m  A5065151012     Neville Wylie                     \u001b[3;92mTrue\u001b[0m   \n",
       "\u001b[1;36m79779\u001b[0m  A5035601896      Emma Barrett                    \u001b[3;91mFalse\u001b[0m   \n",
       "\u001b[1;36m70272\u001b[0m  A5018389548  Charlotte Greene                     \u001b[3;35mNone\u001b[0m   \n",
       "\n",
       "      abroad_experience_after  abroad_fraction_before  abroad_fraction_after  \n",
       "\u001b[1;36m63358\u001b[0m                    \u001b[3;92mTrue\u001b[0m                   \u001b[1;36m0.062\u001b[0m                  \u001b[1;36m0.111\u001b[0m  \n",
       "\u001b[1;36m79779\u001b[0m                    \u001b[3;92mTrue\u001b[0m                   \u001b[1;36m0.000\u001b[0m                  \u001b[1;36m0.474\u001b[0m  \n",
       "\u001b[1;36m70272\u001b[0m                    \u001b[3;35mNone\u001b[0m                     NaN                    NaN  "
      ]
     },
     "metadata": {},
     "output_type": "display_data"
    }
   ],
   "source": [
    "# | code-fold: true\n",
    "print(\"\\nExample Basic Metrics:\")\n",
    "\n",
    "# Show citation metrics\n",
    "citation_cols = [\n",
    "    \"oa_id\",\n",
    "    \"display_name\", \n",
    "    \"works_count\",\n",
    "    \"cited_by_count\",\n",
    "    \"citations_per_publication\",\n",
    "    \"h_index\",\n",
    "    \"i10_index\",\n",
    "]\n",
    "display(basic_metrics[citation_cols].sample(3, random_state=42))\n",
    "\n",
    "# Show before/after metrics\n",
    "print(\"\\nBefore/After Grant Metrics:\")\n",
    "before_after_cols = [\n",
    "    \"oa_id\",\n",
    "    \"display_name\",\n",
    "    \"n_pubs_before\", \n",
    "    \"n_pubs_after\",\n",
    "    \"mean_citations_pubyear_before\",\n",
    "    \"mean_citations_pubyear_after\",\n",
    "]\n",
    "display(basic_metrics[before_after_cols].sample(3, random_state=43))\n",
    "\n",
    "# Show international metrics\n",
    "print(\"\\nInternational Experience Metrics:\")\n",
    "international_cols = [\n",
    "    \"oa_id\",\n",
    "    \"display_name\",\n",
    "    \"abroad_experience_before\",\n",
    "    \"abroad_experience_after\", \n",
    "    \"abroad_fraction_before\",\n",
    "    \"abroad_fraction_after\",\n",
    "]\n",
    "display(basic_metrics[international_cols].sample(3, random_state=44))"
   ]
  },
  {
   "cell_type": "markdown",
   "metadata": {},
   "source": [
    "\n",
    "## 5. Complex Metrics Analysis (`data_analysis_complex_metrics`)\n",
    "\n",
    "This pipeline computes iscipline diversity and research disruption indicators based on publication and citation data. This provides insights into the nature and influence of a researcher's work, such as the degree to which their work disrupts or consolidates existing knowledge domains, and the diversity of the research topics they engage with.\n",
    "\n",
    "**Pipeline Overview**:\n",
    "\n",
    "The calculation involves several sequential sub-pipelines:\n",
    "\n",
    "1.  **Sample Pipeline**: Performs stratified sampling of publications per author (up to 50, weighted by FWCI) to avoid hitting OpenAlex daily rate limits. 5.3M papers have on average 22 citations each, which implies some 71M unique papers we need to fetch references for. OpenAlex only allows up to 5M paper searchers (100,000 queries of 50 papers each) per day ([see documentation](https://docs.openalex.org/how-to-use-the-api/rate-limits-and-authentication)).  \n",
    "2.  **Focal Collection Pipeline**: Fetches citation data for the sampled publications.\n",
    "3.  **Reference Collection Pipeline**: Fetches metadata for the references *within* the sampled publications.\n",
    "4.  **Disruption Index Pipeline**: Calculates the disruption index for sampled publications and aggregates to the author level.\n",
    "5.  **Discipline Diversity Pipeline**: Computes topic embeddings (using SPECTER), aggregates topics per author, and calculates diversity components.\n",
    "6.  **Metric Computation Pipeline**: Combines disruption and diversity metrics, computes before/after funding comparisons, and merges with basic metrics.\n",
    "\n",
    "**Methodological Approach**:\n",
    "\n",
    "*   **Disruption Index**: Implements the [Wu & Yan (2019)](https://doi.org/10.48550/arXiv.1905.03461) variant, following recommendations from [Leibel & Bornmann (2023)](https://doi.org/10.48550/arXiv.2308.02383). For a focal paper *i*, this index measures how subsequent papers cite it relative to its references:\n",
    "    $$ DI = \\frac{n_f - n_b}{n_f + n_b} $$\n",
    "    where $n_f$ is the count of papers citing *i* but not *i*\\'s references, and $n_b$ is the count of papers citing both *i* and *i*\\'s references. Values near +1 suggest disruption, while values near -1 suggest consolidation. Author-level scores are averaged, with an option to weight by Field-Weighted Citation Impact (FWCI).\n",
    "\n",
    "*   **Discipline Diversity**: Follows [Leydesdorff et al. (2019)](https://doi.org/10.1016/j.joi.2018.12.006), combining three components:\n",
    "    1.  **Variety**: Proportion of unique topics covered by the author.\n",
    "    2.  **Evenness**: Balance of publication distribution across topics (using Kvålseth-Jost measure).\n",
    "    3.  **Disparity**: Average cognitive distance between topic embeddings (using SPECTER model).\n",
    "    The overall diversity is the product: Diversity = Variety × Evenness × Disparity.\n",
    "\n",
    "**Key Metrics Calculated (Output Variables)**:\n",
    "\n",
    "The pipeline produces author-level metrics aggregated for periods before and after their first GtR funding date, as well as annual time series data.\n",
    "\n",
    "*   **Before/After Funding Metrics (Examples)**:\n",
    "    *   `mean_disruption_before`/`mean_disruption_after`: Average unweighted disruption.\n",
    "    *   `mean_weighted_disruption_before`/`mean_weighted_disruption_after`: Average FWCI-weighted disruption.\n",
    "    *   `mean_variety_before`/`mean_variety_after`: Average topic variety.\n",
    "    *   `mean_evenness_before`/`mean_evenness_after`: Average topic evenness.\n",
    "    *   `mean_disparity_before`/`mean_disparity_after`: Average topic disparity.\n",
    "\n",
    "*   **Annual Time Series Data**:\n",
    "    *   Contains yearly values for disruption (mean, weighted mean) and diversity (variety, evenness, disparity).\n",
    "\n",
    "### Pipeline Output Example\n",
    "\n",
    "These aggregated metrics are typically added to the main author table. We can display some examples from the `final_metrics` dataset loaded earlier.\n"
   ]
  },
  {
   "cell_type": "code",
   "execution_count": 15,
   "metadata": {},
   "outputs": [
    {
     "data": {
      "text/html": [
       "<pre style=\"white-space:pre;overflow-x:auto;line-height:normal;font-family:Menlo,'DejaVu Sans Mono',consolas,'Courier New',monospace\"><span style=\"color: #7fbfbf; text-decoration-color: #7fbfbf\">[04/10/25 09:50:37] </span><span style=\"color: #000080; text-decoration-color: #000080\">INFO    </span> Loading data from <span style=\"color: #ff8700; text-decoration-color: #ff8700\">analysis.final_metrics.primary</span>                   <a href=\"file:///home/dampudia/miniconda3/envs/.dsit_whoswho/lib/python3.13/site-packages/kedro/io/data_catalog.py\" target=\"_blank\"><span style=\"color: #7f7f7f; text-decoration-color: #7f7f7f\">data_catalog.py</span></a><span style=\"color: #7f7f7f; text-decoration-color: #7f7f7f\">:</span><a href=\"file:///home/dampudia/miniconda3/envs/.dsit_whoswho/lib/python3.13/site-packages/kedro/io/data_catalog.py#390\" target=\"_blank\"><span style=\"color: #7f7f7f; text-decoration-color: #7f7f7f\">390</span></a>\n",
       "<span style=\"color: #7fbfbf; text-decoration-color: #7fbfbf\">                    </span>         <span style=\"font-weight: bold\">(</span>ParquetDataset<span style=\"font-weight: bold\">)</span><span style=\"color: #808000; text-decoration-color: #808000\">...</span>                                                <span style=\"color: #7f7f7f; text-decoration-color: #7f7f7f\">                   </span>\n",
       "</pre>\n"
      ],
      "text/plain": [
       "\u001b[2;36m[04/10/25 09:50:37]\u001b[0m\u001b[2;36m \u001b[0m\u001b[34mINFO    \u001b[0m Loading data from \u001b[38;5;208manalysis.final_metrics.primary\u001b[0m                   \u001b]8;id=770804;file:///home/dampudia/miniconda3/envs/.dsit_whoswho/lib/python3.13/site-packages/kedro/io/data_catalog.py\u001b\\\u001b[2mdata_catalog.py\u001b[0m\u001b]8;;\u001b\\\u001b[2m:\u001b[0m\u001b]8;id=816216;file:///home/dampudia/miniconda3/envs/.dsit_whoswho/lib/python3.13/site-packages/kedro/io/data_catalog.py#390\u001b\\\u001b[2m390\u001b[0m\u001b]8;;\u001b\\\n",
       "\u001b[2;36m                    \u001b[0m         \u001b[1m(\u001b[0mParquetDataset\u001b[1m)\u001b[0m\u001b[33m...\u001b[0m                                                \u001b[2m                   \u001b[0m\n"
      ]
     },
     "metadata": {},
     "output_type": "display_data"
    }
   ],
   "source": [
    "# | output: false\n",
    "final_metrics = catalog.load(\"analysis.final_metrics.primary\")"
   ]
  },
  {
   "cell_type": "code",
   "execution_count": null,
   "metadata": {},
   "outputs": [
    {
     "name": "stdout",
     "output_type": "stream",
     "text": [
      "Example Complex Metrics (Before/After First Grant):\n"
     ]
    },
    {
     "data": {
      "text/html": [
       "<pre style=\"white-space:pre;overflow-x:auto;line-height:normal;font-family:Menlo,'DejaVu Sans Mono',consolas,'Courier New',monospace\"></pre>\n"
      ],
      "text/plain": []
     },
     "metadata": {},
     "output_type": "display_data"
    },
    {
     "data": {
      "text/html": [
       "<div>\n",
       "<style scoped>\n",
       "    .dataframe tbody tr th:only-of-type {\n",
       "        vertical-align: middle;\n",
       "    }\n",
       "\n",
       "    .dataframe tbody tr th {\n",
       "        vertical-align: top;\n",
       "    }\n",
       "\n",
       "    .dataframe thead th {\n",
       "        text-align: right;\n",
       "    }\n",
       "</style>\n",
       "<table border=\"1\" class=\"dataframe\">\n",
       "  <thead>\n",
       "    <tr style=\"text-align: right;\">\n",
       "      <th></th>\n",
       "      <th>oa_id</th>\n",
       "      <th>display_name</th>\n",
       "      <th>mean_disruption_before</th>\n",
       "      <th>mean_disruption_after</th>\n",
       "      <th>mean_weighted_disruption_before</th>\n",
       "      <th>mean_weighted_disruption_after</th>\n",
       "      <th>mean_variety_before</th>\n",
       "      <th>mean_variety_after</th>\n",
       "      <th>mean_evenness_before</th>\n",
       "      <th>mean_evenness_after</th>\n",
       "      <th>mean_disparity_before</th>\n",
       "      <th>mean_disparity_after</th>\n",
       "    </tr>\n",
       "  </thead>\n",
       "  <tbody>\n",
       "    <tr>\n",
       "      <th>64299</th>\n",
       "      <td>A5043849805</td>\n",
       "      <td>Andrew Jahoda</td>\n",
       "      <td>0.148</td>\n",
       "      <td>-0.305</td>\n",
       "      <td>0.227</td>\n",
       "      <td>-0.235</td>\n",
       "      <td>0.053</td>\n",
       "      <td>0.072</td>\n",
       "      <td>0.406</td>\n",
       "      <td>0.303</td>\n",
       "      <td>0.553</td>\n",
       "      <td>0.564</td>\n",
       "    </tr>\n",
       "    <tr>\n",
       "      <th>41046</th>\n",
       "      <td>A5081261971</td>\n",
       "      <td>David R. Garrod</td>\n",
       "      <td>-0.282</td>\n",
       "      <td>-0.551</td>\n",
       "      <td>-0.315</td>\n",
       "      <td>-0.545</td>\n",
       "      <td>0.057</td>\n",
       "      <td>0.043</td>\n",
       "      <td>0.338</td>\n",
       "      <td>0.435</td>\n",
       "      <td>0.601</td>\n",
       "      <td>0.615</td>\n",
       "    </tr>\n",
       "    <tr>\n",
       "      <th>73710</th>\n",
       "      <td>A5020989903</td>\n",
       "      <td>Emma V. King</td>\n",
       "      <td>-0.255</td>\n",
       "      <td>-0.422</td>\n",
       "      <td>-0.215</td>\n",
       "      <td>-0.403</td>\n",
       "      <td>0.087</td>\n",
       "      <td>0.081</td>\n",
       "      <td>0.427</td>\n",
       "      <td>0.279</td>\n",
       "      <td>0.603</td>\n",
       "      <td>0.609</td>\n",
       "    </tr>\n",
       "    <tr>\n",
       "      <th>72234</th>\n",
       "      <td>A5071118063</td>\n",
       "      <td>Beth Jefferies</td>\n",
       "      <td>NaN</td>\n",
       "      <td>-0.600</td>\n",
       "      <td>NaN</td>\n",
       "      <td>-1.000</td>\n",
       "      <td>0.012</td>\n",
       "      <td>0.011</td>\n",
       "      <td>1.000</td>\n",
       "      <td>0.468</td>\n",
       "      <td>0.552</td>\n",
       "      <td>0.554</td>\n",
       "    </tr>\n",
       "    <tr>\n",
       "      <th>82799</th>\n",
       "      <td>A5067019894</td>\n",
       "      <td>Luke Griffith</td>\n",
       "      <td>NaN</td>\n",
       "      <td>NaN</td>\n",
       "      <td>NaN</td>\n",
       "      <td>NaN</td>\n",
       "      <td>NaN</td>\n",
       "      <td>NaN</td>\n",
       "      <td>NaN</td>\n",
       "      <td>NaN</td>\n",
       "      <td>NaN</td>\n",
       "      <td>NaN</td>\n",
       "    </tr>\n",
       "    <tr>\n",
       "      <th>66287</th>\n",
       "      <td>A5046276492</td>\n",
       "      <td>Santie de Villiers</td>\n",
       "      <td>-0.373</td>\n",
       "      <td>-0.196</td>\n",
       "      <td>-0.357</td>\n",
       "      <td>-0.157</td>\n",
       "      <td>0.017</td>\n",
       "      <td>0.027</td>\n",
       "      <td>0.537</td>\n",
       "      <td>0.591</td>\n",
       "      <td>0.595</td>\n",
       "      <td>0.594</td>\n",
       "    </tr>\n",
       "    <tr>\n",
       "      <th>39065</th>\n",
       "      <td>A5059921894</td>\n",
       "      <td>Norman Morrison</td>\n",
       "      <td>-0.495</td>\n",
       "      <td>-0.032</td>\n",
       "      <td>-0.273</td>\n",
       "      <td>0.043</td>\n",
       "      <td>0.080</td>\n",
       "      <td>0.141</td>\n",
       "      <td>0.232</td>\n",
       "      <td>0.363</td>\n",
       "      <td>0.597</td>\n",
       "      <td>0.613</td>\n",
       "    </tr>\n",
       "    <tr>\n",
       "      <th>62927</th>\n",
       "      <td>A5089882185</td>\n",
       "      <td>Daniel T. Bowron</td>\n",
       "      <td>-0.401</td>\n",
       "      <td>-0.644</td>\n",
       "      <td>-0.396</td>\n",
       "      <td>-0.665</td>\n",
       "      <td>0.093</td>\n",
       "      <td>0.103</td>\n",
       "      <td>0.437</td>\n",
       "      <td>0.513</td>\n",
       "      <td>0.577</td>\n",
       "      <td>0.582</td>\n",
       "    </tr>\n",
       "    <tr>\n",
       "      <th>38282</th>\n",
       "      <td>A5063458205</td>\n",
       "      <td>Martin C. Stennett</td>\n",
       "      <td>-0.265</td>\n",
       "      <td>-0.581</td>\n",
       "      <td>-0.331</td>\n",
       "      <td>-0.539</td>\n",
       "      <td>0.045</td>\n",
       "      <td>0.061</td>\n",
       "      <td>0.211</td>\n",
       "      <td>0.182</td>\n",
       "      <td>0.577</td>\n",
       "      <td>0.599</td>\n",
       "    </tr>\n",
       "    <tr>\n",
       "      <th>82704</th>\n",
       "      <td>A5016855567</td>\n",
       "      <td>Marion M. Hetherington</td>\n",
       "      <td>-0.374</td>\n",
       "      <td>-0.569</td>\n",
       "      <td>-0.398</td>\n",
       "      <td>-0.645</td>\n",
       "      <td>0.080</td>\n",
       "      <td>0.075</td>\n",
       "      <td>0.357</td>\n",
       "      <td>0.314</td>\n",
       "      <td>0.605</td>\n",
       "      <td>0.598</td>\n",
       "    </tr>\n",
       "  </tbody>\n",
       "</table>\n",
       "</div>"
      ],
      "text/plain": [
       "\n",
       "             oa_id            display_name  mean_disruption_before  \\\n",
       "\u001b[1;36m64299\u001b[0m  A5043849805           Andrew Jahoda                   \u001b[1;36m0.148\u001b[0m   \n",
       "\u001b[1;36m41046\u001b[0m  A5081261971         David R. Garrod                  \u001b[1;36m-0.282\u001b[0m   \n",
       "\u001b[1;36m73710\u001b[0m  A5020989903            Emma V. King                  \u001b[1;36m-0.255\u001b[0m   \n",
       "\u001b[1;36m72234\u001b[0m  A5071118063          Beth Jefferies                     NaN   \n",
       "\u001b[1;36m82799\u001b[0m  A5067019894           Luke Griffith                     NaN   \n",
       "\u001b[1;36m66287\u001b[0m  A5046276492      Santie de Villiers                  \u001b[1;36m-0.373\u001b[0m   \n",
       "\u001b[1;36m39065\u001b[0m  A5059921894         Norman Morrison                  \u001b[1;36m-0.495\u001b[0m   \n",
       "\u001b[1;36m62927\u001b[0m  A5089882185        Daniel T. Bowron                  \u001b[1;36m-0.401\u001b[0m   \n",
       "\u001b[1;36m38282\u001b[0m  A5063458205      Martin C. Stennett                  \u001b[1;36m-0.265\u001b[0m   \n",
       "\u001b[1;36m82704\u001b[0m  A5016855567  Marion M. Hetherington                  \u001b[1;36m-0.374\u001b[0m   \n",
       "\n",
       "       mean_disruption_after  mean_weighted_disruption_before  \\\n",
       "\u001b[1;36m64299\u001b[0m                 \u001b[1;36m-0.305\u001b[0m                            \u001b[1;36m0.227\u001b[0m   \n",
       "\u001b[1;36m41046\u001b[0m                 \u001b[1;36m-0.551\u001b[0m                           \u001b[1;36m-0.315\u001b[0m   \n",
       "\u001b[1;36m73710\u001b[0m                 \u001b[1;36m-0.422\u001b[0m                           \u001b[1;36m-0.215\u001b[0m   \n",
       "\u001b[1;36m72234\u001b[0m                 \u001b[1;36m-0.600\u001b[0m                              NaN   \n",
       "\u001b[1;36m82799\u001b[0m                    NaN                              NaN   \n",
       "\u001b[1;36m66287\u001b[0m                 \u001b[1;36m-0.196\u001b[0m                           \u001b[1;36m-0.357\u001b[0m   \n",
       "\u001b[1;36m39065\u001b[0m                 \u001b[1;36m-0.032\u001b[0m                           \u001b[1;36m-0.273\u001b[0m   \n",
       "\u001b[1;36m62927\u001b[0m                 \u001b[1;36m-0.644\u001b[0m                           \u001b[1;36m-0.396\u001b[0m   \n",
       "\u001b[1;36m38282\u001b[0m                 \u001b[1;36m-0.581\u001b[0m                           \u001b[1;36m-0.331\u001b[0m   \n",
       "\u001b[1;36m82704\u001b[0m                 \u001b[1;36m-0.569\u001b[0m                           \u001b[1;36m-0.398\u001b[0m   \n",
       "\n",
       "       mean_weighted_disruption_after  mean_variety_before  \\\n",
       "\u001b[1;36m64299\u001b[0m                          \u001b[1;36m-0.235\u001b[0m                \u001b[1;36m0.053\u001b[0m   \n",
       "\u001b[1;36m41046\u001b[0m                          \u001b[1;36m-0.545\u001b[0m                \u001b[1;36m0.057\u001b[0m   \n",
       "\u001b[1;36m73710\u001b[0m                          \u001b[1;36m-0.403\u001b[0m                \u001b[1;36m0.087\u001b[0m   \n",
       "\u001b[1;36m72234\u001b[0m                          \u001b[1;36m-1.000\u001b[0m                \u001b[1;36m0.012\u001b[0m   \n",
       "\u001b[1;36m82799\u001b[0m                             NaN                  NaN   \n",
       "\u001b[1;36m66287\u001b[0m                          \u001b[1;36m-0.157\u001b[0m                \u001b[1;36m0.017\u001b[0m   \n",
       "\u001b[1;36m39065\u001b[0m                           \u001b[1;36m0.043\u001b[0m                \u001b[1;36m0.080\u001b[0m   \n",
       "\u001b[1;36m62927\u001b[0m                          \u001b[1;36m-0.665\u001b[0m                \u001b[1;36m0.093\u001b[0m   \n",
       "\u001b[1;36m38282\u001b[0m                          \u001b[1;36m-0.539\u001b[0m                \u001b[1;36m0.045\u001b[0m   \n",
       "\u001b[1;36m82704\u001b[0m                          \u001b[1;36m-0.645\u001b[0m                \u001b[1;36m0.080\u001b[0m   \n",
       "\n",
       "       mean_variety_after  mean_evenness_before  mean_evenness_after  \\\n",
       "\u001b[1;36m64299\u001b[0m               \u001b[1;36m0.072\u001b[0m                 \u001b[1;36m0.406\u001b[0m                \u001b[1;36m0.303\u001b[0m   \n",
       "\u001b[1;36m41046\u001b[0m               \u001b[1;36m0.043\u001b[0m                 \u001b[1;36m0.338\u001b[0m                \u001b[1;36m0.435\u001b[0m   \n",
       "\u001b[1;36m73710\u001b[0m               \u001b[1;36m0.081\u001b[0m                 \u001b[1;36m0.427\u001b[0m                \u001b[1;36m0.279\u001b[0m   \n",
       "\u001b[1;36m72234\u001b[0m               \u001b[1;36m0.011\u001b[0m                 \u001b[1;36m1.000\u001b[0m                \u001b[1;36m0.468\u001b[0m   \n",
       "\u001b[1;36m82799\u001b[0m                 NaN                   NaN                  NaN   \n",
       "\u001b[1;36m66287\u001b[0m               \u001b[1;36m0.027\u001b[0m                 \u001b[1;36m0.537\u001b[0m                \u001b[1;36m0.591\u001b[0m   \n",
       "\u001b[1;36m39065\u001b[0m               \u001b[1;36m0.141\u001b[0m                 \u001b[1;36m0.232\u001b[0m                \u001b[1;36m0.363\u001b[0m   \n",
       "\u001b[1;36m62927\u001b[0m               \u001b[1;36m0.103\u001b[0m                 \u001b[1;36m0.437\u001b[0m                \u001b[1;36m0.513\u001b[0m   \n",
       "\u001b[1;36m38282\u001b[0m               \u001b[1;36m0.061\u001b[0m                 \u001b[1;36m0.211\u001b[0m                \u001b[1;36m0.182\u001b[0m   \n",
       "\u001b[1;36m82704\u001b[0m               \u001b[1;36m0.075\u001b[0m                 \u001b[1;36m0.357\u001b[0m                \u001b[1;36m0.314\u001b[0m   \n",
       "\n",
       "       mean_disparity_before  mean_disparity_after  \n",
       "\u001b[1;36m64299\u001b[0m                  \u001b[1;36m0.553\u001b[0m                 \u001b[1;36m0.564\u001b[0m  \n",
       "\u001b[1;36m41046\u001b[0m                  \u001b[1;36m0.601\u001b[0m                 \u001b[1;36m0.615\u001b[0m  \n",
       "\u001b[1;36m73710\u001b[0m                  \u001b[1;36m0.603\u001b[0m                 \u001b[1;36m0.609\u001b[0m  \n",
       "\u001b[1;36m72234\u001b[0m                  \u001b[1;36m0.552\u001b[0m                 \u001b[1;36m0.554\u001b[0m  \n",
       "\u001b[1;36m82799\u001b[0m                    NaN                   NaN  \n",
       "\u001b[1;36m66287\u001b[0m                  \u001b[1;36m0.595\u001b[0m                 \u001b[1;36m0.594\u001b[0m  \n",
       "\u001b[1;36m39065\u001b[0m                  \u001b[1;36m0.597\u001b[0m                 \u001b[1;36m0.613\u001b[0m  \n",
       "\u001b[1;36m62927\u001b[0m                  \u001b[1;36m0.577\u001b[0m                 \u001b[1;36m0.582\u001b[0m  \n",
       "\u001b[1;36m38282\u001b[0m                  \u001b[1;36m0.577\u001b[0m                 \u001b[1;36m0.599\u001b[0m  \n",
       "\u001b[1;36m82704\u001b[0m                  \u001b[1;36m0.605\u001b[0m                 \u001b[1;36m0.598\u001b[0m  "
      ]
     },
     "metadata": {},
     "output_type": "display_data"
    }
   ],
   "source": [
    "# | code-fold: true\n",
    "print(\"Example Complex Metrics (Before/After First Grant):\")\n",
    "complex_metrics_cols = [\n",
    "    \"oa_id\",\n",
    "    \"display_name\",\n",
    "    \"mean_disruption_before\",\n",
    "    \"mean_disruption_after\",\n",
    "    \"mean_weighted_disruption_before\",\n",
    "    \"mean_weighted_disruption_after\",\n",
    "    \"mean_variety_before\",\n",
    "    \"mean_variety_after\",\n",
    "    \"mean_evenness_before\",\n",
    "    \"mean_evenness_after\",\n",
    "    \"mean_disparity_before\",\n",
    "    \"mean_disparity_after\",\n",
    "]\n",
    "display(final_metrics[complex_metrics_cols].sample(10, random_state=42))"
   ]
  },
  {
   "cell_type": "code",
   "execution_count": 31,
   "metadata": {},
   "outputs": [
    {
     "name": "stdout",
     "output_type": "stream",
     "text": [
      "Example Complex Metrics TS data (Before/After First Grant):\n"
     ]
    },
    {
     "data": {
      "text/html": [
       "<pre style=\"white-space:pre;overflow-x:auto;line-height:normal;font-family:Menlo,'DejaVu Sans Mono',consolas,'Courier New',monospace\"></pre>\n"
      ],
      "text/plain": []
     },
     "metadata": {},
     "output_type": "display_data"
    },
    {
     "data": {
      "text/html": [
       "<div>\n",
       "<style scoped>\n",
       "    .dataframe tbody tr th:only-of-type {\n",
       "        vertical-align: middle;\n",
       "    }\n",
       "\n",
       "    .dataframe tbody tr th {\n",
       "        vertical-align: top;\n",
       "    }\n",
       "\n",
       "    .dataframe thead th {\n",
       "        text-align: right;\n",
       "    }\n",
       "</style>\n",
       "<table border=\"1\" class=\"dataframe\">\n",
       "  <thead>\n",
       "    <tr style=\"text-align: right;\">\n",
       "      <th></th>\n",
       "      <th>oa_id</th>\n",
       "      <th>display_name</th>\n",
       "      <th>author_year_disruption</th>\n",
       "      <th>author_year_diversity</th>\n",
       "    </tr>\n",
       "  </thead>\n",
       "  <tbody>\n",
       "    <tr>\n",
       "      <th>64299</th>\n",
       "      <td>A5043849805</td>\n",
       "      <td>Andrew Jahoda</td>\n",
       "      <td>[[2002, 1.0, 1.0], [2004, 0.21, 0.35], [2005, -0.3, -0.3], [2006, -0.11, -0.03], [2007, 0.19, 0.19], [2008, -0.1, 0.15], [2009, -0.08, 0.56], [2010, -0.47, ...</td>\n",
       "      <td>[[2002, 0.048, 0.467, 0.547], [2004, 0.048, 0.438, 0.547], [2005, 0.048, 0.419, 0.547], [2006, 0.048, 0.401, 0.547], [2007, 0.052, 0.403, 0.546], [2008, 0.0...</td>\n",
       "    </tr>\n",
       "    <tr>\n",
       "      <th>41046</th>\n",
       "      <td>A5081261971</td>\n",
       "      <td>David R. Garrod</td>\n",
       "      <td>[[2002, -0.6, -0.6], [2003, 0.04, -0.07], [2004, -0.2, -0.39], [2005, -0.43, -0.42], [2006, -0.77, -0.54], [2007, 0.27, 0.13], [2008, -0.41, -0.4], [2009, -...</td>\n",
       "      <td>[[2002, 0.056, 0.311, 0.606], [2003, 0.044, 0.413, 0.585], [2004, 0.056, 0.319, 0.571], [2005, 0.052, 0.312, 0.6], [2006, 0.067, 0.309, 0.619], [2007, 0.067...</td>\n",
       "    </tr>\n",
       "    <tr>\n",
       "      <th>73710</th>\n",
       "      <td>A5020989903</td>\n",
       "      <td>Emma V. King</td>\n",
       "      <td>[[2011, 0.33, 0.3], [2012, 0.09, -0.09], [2013, -0.42, -0.42], [2014, -0.52, -0.34], [2015, -0.62, -0.39], [2016, -0.39, -0.35], [2017, -0.42, -0.44], [2018...</td>\n",
       "      <td>[[2008, 0.048, 0.587, 0.582], [2011, 0.099, 0.416, 0.611], [2012, 0.095, 0.452, 0.621], [2013, 0.099, 0.396, 0.611], [2014, 0.103, 0.374, 0.599], [2015, 0.0...</td>\n",
       "    </tr>\n",
       "    <tr>\n",
       "      <th>72234</th>\n",
       "      <td>A5071118063</td>\n",
       "      <td>Beth Jefferies</td>\n",
       "      <td>[[2015, -1.0, -1.0], [2018, 1.0, nan], [2020, -1.0, -1.0], [2021, -1.0, -1.0], [2023, -1.0, -1.0]]</td>\n",
       "      <td>[[2002, 0.012, 1.0, 0.552], [2014, 0.008, 0.625, 0.567], [2015, 0.012, 0.565, 0.596], [2018, 0.012, 0.284, 0.474], [2019, 0.016, 0.435, 0.501], [2020, 0.008...</td>\n",
       "    </tr>\n",
       "    <tr>\n",
       "      <th>82799</th>\n",
       "      <td>A5067019894</td>\n",
       "      <td>Luke Griffith</td>\n",
       "      <td>None</td>\n",
       "      <td>None</td>\n",
       "    </tr>\n",
       "    <tr>\n",
       "      <th>66287</th>\n",
       "      <td>A5046276492</td>\n",
       "      <td>Santie de Villiers</td>\n",
       "      <td>[[2009, 0.0, 0.0], [2010, -0.65, -0.63], [2011, -0.47, -0.44], [2012, -0.24, -0.24], [2014, -0.14, 0.2], [2015, -0.41, -0.41], [2016, -0.41, -0.41], [2018, ...</td>\n",
       "      <td>[[2006, 0.016, 0.4, 0.598], [2008, 0.016, 0.549, 0.598], [2009, 0.016, 0.607, 0.598], [2010, 0.016, 0.596, 0.598], [2011, 0.02, 0.534, 0.582], [2012, 0.02, ...</td>\n",
       "    </tr>\n",
       "    <tr>\n",
       "      <th>39065</th>\n",
       "      <td>A5059921894</td>\n",
       "      <td>Norman Morrison</td>\n",
       "      <td>[[2002, -1.0, nan], [2004, -0.63, -0.55], [2005, -0.1, -0.03], [2006, -0.25, -0.24], [2007, 0.38, 0.57], [2008, -0.24, -0.04], [2009, -0.33, -0.33], [2010, ...</td>\n",
       "      <td>[[2002, 0.063, 0.375, 0.587], [2004, 0.075, 0.232, 0.612], [2005, 0.087, 0.177, 0.593], [2006, 0.095, 0.145, 0.598], [2007, 0.103, 0.231, 0.591], [2008, 0.1...</td>\n",
       "    </tr>\n",
       "    <tr>\n",
       "      <th>62927</th>\n",
       "      <td>A5089882185</td>\n",
       "      <td>Daniel T. Bowron</td>\n",
       "      <td>[[2002, -0.67, -0.62], [2003, -0.27, -0.25], [2004, -0.47, -0.06], [2005, -0.1, -0.19], [2006, 0.25, -0.15], [2007, -0.58, -0.57], [2008, -0.48, -0.66], [20...</td>\n",
       "      <td>[[2002, 0.087, 0.498, 0.586], [2003, 0.083, 0.483, 0.58], [2004, 0.075, 0.481, 0.589], [2005, 0.079, 0.462, 0.58], [2006, 0.079, 0.45, 0.571], [2007, 0.083,...</td>\n",
       "    </tr>\n",
       "    <tr>\n",
       "      <th>38282</th>\n",
       "      <td>A5063458205</td>\n",
       "      <td>Martin C. Stennett</td>\n",
       "      <td>[[2002, 0.38, 0.38], [2004, -0.43, -0.43], [2005, 0.0, 0.03], [2006, 0.09, -0.43], [2007, -0.13, -0.26], [2008, -0.27, -0.24], [2009, -1.0, -1.0], [2010, -0...</td>\n",
       "      <td>[[2002, 0.032, 0.28, 0.53], [2004, 0.036, 0.245, 0.574], [2005, 0.048, 0.19, 0.574], [2006, 0.044, 0.204, 0.565], [2007, 0.044, 0.209, 0.565], [2008, 0.052,...</td>\n",
       "    </tr>\n",
       "    <tr>\n",
       "      <th>82704</th>\n",
       "      <td>A5016855567</td>\n",
       "      <td>Marion M. Hetherington</td>\n",
       "      <td>[[2002, -0.12, -0.3], [2003, -0.21, -0.27], [2004, -0.23, -0.36], [2005, -0.39, -0.41], [2006, -0.33, -0.36], [2007, -0.31, -0.31], [2008, -0.45, -0.35], [2...</td>\n",
       "      <td>[[2002, 0.052, 0.469, 0.608], [2003, 0.052, 0.459, 0.616], [2004, 0.06, 0.422, 0.604], [2005, 0.083, 0.332, 0.608], [2006, 0.099, 0.316, 0.604], [2007, 0.10...</td>\n",
       "    </tr>\n",
       "  </tbody>\n",
       "</table>\n",
       "</div>"
      ],
      "text/plain": [
       "\n",
       "             oa_id            display_name  \\\n",
       "\u001b[1;36m64299\u001b[0m  A5043849805           Andrew Jahoda   \n",
       "\u001b[1;36m41046\u001b[0m  A5081261971         David R. Garrod   \n",
       "\u001b[1;36m73710\u001b[0m  A5020989903            Emma V. King   \n",
       "\u001b[1;36m72234\u001b[0m  A5071118063          Beth Jefferies   \n",
       "\u001b[1;36m82799\u001b[0m  A5067019894           Luke Griffith   \n",
       "\u001b[1;36m66287\u001b[0m  A5046276492      Santie de Villiers   \n",
       "\u001b[1;36m39065\u001b[0m  A5059921894         Norman Morrison   \n",
       "\u001b[1;36m62927\u001b[0m  A5089882185        Daniel T. Bowron   \n",
       "\u001b[1;36m38282\u001b[0m  A5063458205      Martin C. Stennett   \n",
       "\u001b[1;36m82704\u001b[0m  A5016855567  Marion M. Hetherington   \n",
       "\n",
       "                                                                                                                                                author_year_disruption  \\\n",
       "\u001b[1;36m64299\u001b[0m  \u001b[1m[\u001b[0m\u001b[1m[\u001b[0m\u001b[1;36m2002\u001b[0m, \u001b[1;36m1.0\u001b[0m, \u001b[1;36m1.0\u001b[0m\u001b[1m]\u001b[0m, \u001b[1m[\u001b[0m\u001b[1;36m2004\u001b[0m, \u001b[1;36m0.21\u001b[0m, \u001b[1;36m0.35\u001b[0m\u001b[1m]\u001b[0m, \u001b[1m[\u001b[0m\u001b[1;36m2005\u001b[0m, \u001b[1;36m-0.3\u001b[0m, \u001b[1;36m-0.3\u001b[0m\u001b[1m]\u001b[0m, \u001b[1m[\u001b[0m\u001b[1;36m2006\u001b[0m, \u001b[1;36m-0.11\u001b[0m, \u001b[1;36m-0.03\u001b[0m\u001b[1m]\u001b[0m, \u001b[1m[\u001b[0m\u001b[1;36m2007\u001b[0m, \u001b[1;36m0.19\u001b[0m, \u001b[1;36m0.19\u001b[0m\u001b[1m]\u001b[0m, \u001b[1m[\u001b[0m\u001b[1;36m2008\u001b[0m, \u001b[1;36m-0.1\u001b[0m, \u001b[1;36m0.15\u001b[0m\u001b[1m]\u001b[0m, \u001b[1m[\u001b[0m\u001b[1;36m2009\u001b[0m, \u001b[1;36m-0.08\u001b[0m, \u001b[1;36m0.56\u001b[0m\u001b[1m]\u001b[0m, \u001b[1m[\u001b[0m\u001b[1;36m2010\u001b[0m, \u001b[1;36m-0.47\u001b[0m, \u001b[33m...\u001b[0m\n",
       "\u001b[1;36m41046\u001b[0m  \u001b[1m[\u001b[0m\u001b[1m[\u001b[0m\u001b[1;36m2002\u001b[0m, \u001b[1;36m-0.6\u001b[0m, \u001b[1;36m-0.6\u001b[0m\u001b[1m]\u001b[0m, \u001b[1m[\u001b[0m\u001b[1;36m2003\u001b[0m, \u001b[1;36m0.04\u001b[0m, \u001b[1;36m-0.07\u001b[0m\u001b[1m]\u001b[0m, \u001b[1m[\u001b[0m\u001b[1;36m2004\u001b[0m, \u001b[1;36m-0.2\u001b[0m, \u001b[1;36m-0.39\u001b[0m\u001b[1m]\u001b[0m, \u001b[1m[\u001b[0m\u001b[1;36m2005\u001b[0m, \u001b[1;36m-0.43\u001b[0m, \u001b[1;36m-0.42\u001b[0m\u001b[1m]\u001b[0m, \u001b[1m[\u001b[0m\u001b[1;36m2006\u001b[0m, \u001b[1;36m-0.77\u001b[0m, \u001b[1;36m-0.54\u001b[0m\u001b[1m]\u001b[0m, \u001b[1m[\u001b[0m\u001b[1;36m2007\u001b[0m, \u001b[1;36m0.27\u001b[0m, \u001b[1;36m0.13\u001b[0m\u001b[1m]\u001b[0m, \u001b[1m[\u001b[0m\u001b[1;36m2008\u001b[0m, \u001b[1;36m-0.41\u001b[0m, \u001b[1;36m-0.4\u001b[0m\u001b[1m]\u001b[0m, \u001b[1m[\u001b[0m\u001b[1;36m2009\u001b[0m, -\u001b[33m...\u001b[0m\n",
       "\u001b[1;36m73710\u001b[0m  \u001b[1m[\u001b[0m\u001b[1m[\u001b[0m\u001b[1;36m2011\u001b[0m, \u001b[1;36m0.33\u001b[0m, \u001b[1;36m0.3\u001b[0m\u001b[1m]\u001b[0m, \u001b[1m[\u001b[0m\u001b[1;36m2012\u001b[0m, \u001b[1;36m0.09\u001b[0m, \u001b[1;36m-0.09\u001b[0m\u001b[1m]\u001b[0m, \u001b[1m[\u001b[0m\u001b[1;36m2013\u001b[0m, \u001b[1;36m-0.42\u001b[0m, \u001b[1;36m-0.42\u001b[0m\u001b[1m]\u001b[0m, \u001b[1m[\u001b[0m\u001b[1;36m2014\u001b[0m, \u001b[1;36m-0.52\u001b[0m, \u001b[1;36m-0.34\u001b[0m\u001b[1m]\u001b[0m, \u001b[1m[\u001b[0m\u001b[1;36m2015\u001b[0m, \u001b[1;36m-0.62\u001b[0m, \u001b[1;36m-0.39\u001b[0m\u001b[1m]\u001b[0m, \u001b[1m[\u001b[0m\u001b[1;36m2016\u001b[0m, \u001b[1;36m-0.39\u001b[0m, \u001b[1;36m-0.35\u001b[0m\u001b[1m]\u001b[0m, \u001b[1m[\u001b[0m\u001b[1;36m2017\u001b[0m, \u001b[1;36m-0.42\u001b[0m, \u001b[1;36m-0.44\u001b[0m\u001b[1m]\u001b[0m, \u001b[1m[\u001b[0m\u001b[1;36m2018\u001b[0m\u001b[33m...\u001b[0m\n",
       "\u001b[1;36m72234\u001b[0m                                                               \u001b[1m[\u001b[0m\u001b[1m[\u001b[0m\u001b[1;36m2015\u001b[0m, \u001b[1;36m-1.0\u001b[0m, \u001b[1;36m-1.0\u001b[0m\u001b[1m]\u001b[0m, \u001b[1m[\u001b[0m\u001b[1;36m2018\u001b[0m, \u001b[1;36m1.0\u001b[0m, nan\u001b[1m]\u001b[0m, \u001b[1m[\u001b[0m\u001b[1;36m2020\u001b[0m, \u001b[1;36m-1.0\u001b[0m, \u001b[1;36m-1.0\u001b[0m\u001b[1m]\u001b[0m, \u001b[1m[\u001b[0m\u001b[1;36m2021\u001b[0m, \u001b[1;36m-1.0\u001b[0m, \u001b[1;36m-1.0\u001b[0m\u001b[1m]\u001b[0m, \u001b[1m[\u001b[0m\u001b[1;36m2023\u001b[0m, \u001b[1;36m-1.0\u001b[0m, \u001b[1;36m-1.0\u001b[0m\u001b[1m]\u001b[0m\u001b[1m]\u001b[0m\n",
       "\u001b[1;36m82799\u001b[0m                                                                                                                                                             \u001b[3;35mNone\u001b[0m\n",
       "\u001b[1;36m66287\u001b[0m  \u001b[1m[\u001b[0m\u001b[1m[\u001b[0m\u001b[1;36m2009\u001b[0m, \u001b[1;36m0.0\u001b[0m, \u001b[1;36m0.0\u001b[0m\u001b[1m]\u001b[0m, \u001b[1m[\u001b[0m\u001b[1;36m2010\u001b[0m, \u001b[1;36m-0.65\u001b[0m, \u001b[1;36m-0.63\u001b[0m\u001b[1m]\u001b[0m, \u001b[1m[\u001b[0m\u001b[1;36m2011\u001b[0m, \u001b[1;36m-0.47\u001b[0m, \u001b[1;36m-0.44\u001b[0m\u001b[1m]\u001b[0m, \u001b[1m[\u001b[0m\u001b[1;36m2012\u001b[0m, \u001b[1;36m-0.24\u001b[0m, \u001b[1;36m-0.24\u001b[0m\u001b[1m]\u001b[0m, \u001b[1m[\u001b[0m\u001b[1;36m2014\u001b[0m, \u001b[1;36m-0.14\u001b[0m, \u001b[1;36m0.2\u001b[0m\u001b[1m]\u001b[0m, \u001b[1m[\u001b[0m\u001b[1;36m2015\u001b[0m, \u001b[1;36m-0.41\u001b[0m, \u001b[1;36m-0.41\u001b[0m\u001b[1m]\u001b[0m, \u001b[1m[\u001b[0m\u001b[1;36m2016\u001b[0m, \u001b[1;36m-0.41\u001b[0m, \u001b[1;36m-0.41\u001b[0m\u001b[1m]\u001b[0m, \u001b[1m[\u001b[0m\u001b[1;36m2018\u001b[0m, \u001b[33m...\u001b[0m\n",
       "\u001b[1;36m39065\u001b[0m  \u001b[1m[\u001b[0m\u001b[1m[\u001b[0m\u001b[1;36m2002\u001b[0m, \u001b[1;36m-1.0\u001b[0m, nan\u001b[1m]\u001b[0m, \u001b[1m[\u001b[0m\u001b[1;36m2004\u001b[0m, \u001b[1;36m-0.63\u001b[0m, \u001b[1;36m-0.55\u001b[0m\u001b[1m]\u001b[0m, \u001b[1m[\u001b[0m\u001b[1;36m2005\u001b[0m, \u001b[1;36m-0.1\u001b[0m, \u001b[1;36m-0.03\u001b[0m\u001b[1m]\u001b[0m, \u001b[1m[\u001b[0m\u001b[1;36m2006\u001b[0m, \u001b[1;36m-0.25\u001b[0m, \u001b[1;36m-0.24\u001b[0m\u001b[1m]\u001b[0m, \u001b[1m[\u001b[0m\u001b[1;36m2007\u001b[0m, \u001b[1;36m0.38\u001b[0m, \u001b[1;36m0.57\u001b[0m\u001b[1m]\u001b[0m, \u001b[1m[\u001b[0m\u001b[1;36m2008\u001b[0m, \u001b[1;36m-0.24\u001b[0m, \u001b[1;36m-0.04\u001b[0m\u001b[1m]\u001b[0m, \u001b[1m[\u001b[0m\u001b[1;36m2009\u001b[0m, \u001b[1;36m-0.33\u001b[0m, \u001b[1;36m-0.33\u001b[0m\u001b[1m]\u001b[0m, \u001b[1m[\u001b[0m\u001b[1;36m2010\u001b[0m, \u001b[33m...\u001b[0m\n",
       "\u001b[1;36m62927\u001b[0m  \u001b[1m[\u001b[0m\u001b[1m[\u001b[0m\u001b[1;36m2002\u001b[0m, \u001b[1;36m-0.67\u001b[0m, \u001b[1;36m-0.62\u001b[0m\u001b[1m]\u001b[0m, \u001b[1m[\u001b[0m\u001b[1;36m2003\u001b[0m, \u001b[1;36m-0.27\u001b[0m, \u001b[1;36m-0.25\u001b[0m\u001b[1m]\u001b[0m, \u001b[1m[\u001b[0m\u001b[1;36m2004\u001b[0m, \u001b[1;36m-0.47\u001b[0m, \u001b[1;36m-0.06\u001b[0m\u001b[1m]\u001b[0m, \u001b[1m[\u001b[0m\u001b[1;36m2005\u001b[0m, \u001b[1;36m-0.1\u001b[0m, \u001b[1;36m-0.19\u001b[0m\u001b[1m]\u001b[0m, \u001b[1m[\u001b[0m\u001b[1;36m2006\u001b[0m, \u001b[1;36m0.25\u001b[0m, \u001b[1;36m-0.15\u001b[0m\u001b[1m]\u001b[0m, \u001b[1m[\u001b[0m\u001b[1;36m2007\u001b[0m, \u001b[1;36m-0.58\u001b[0m, \u001b[1;36m-0.57\u001b[0m\u001b[1m]\u001b[0m, \u001b[1m[\u001b[0m\u001b[1;36m2008\u001b[0m, \u001b[1;36m-0.48\u001b[0m, \u001b[1;36m-0.66\u001b[0m\u001b[1m]\u001b[0m, \u001b[1m[\u001b[0m\u001b[1;36m20\u001b[0m\u001b[33m...\u001b[0m\n",
       "\u001b[1;36m38282\u001b[0m  \u001b[1m[\u001b[0m\u001b[1m[\u001b[0m\u001b[1;36m2002\u001b[0m, \u001b[1;36m0.38\u001b[0m, \u001b[1;36m0.38\u001b[0m\u001b[1m]\u001b[0m, \u001b[1m[\u001b[0m\u001b[1;36m2004\u001b[0m, \u001b[1;36m-0.43\u001b[0m, \u001b[1;36m-0.43\u001b[0m\u001b[1m]\u001b[0m, \u001b[1m[\u001b[0m\u001b[1;36m2005\u001b[0m, \u001b[1;36m0.0\u001b[0m, \u001b[1;36m0.03\u001b[0m\u001b[1m]\u001b[0m, \u001b[1m[\u001b[0m\u001b[1;36m2006\u001b[0m, \u001b[1;36m0.09\u001b[0m, \u001b[1;36m-0.43\u001b[0m\u001b[1m]\u001b[0m, \u001b[1m[\u001b[0m\u001b[1;36m2007\u001b[0m, \u001b[1;36m-0.13\u001b[0m, \u001b[1;36m-0.26\u001b[0m\u001b[1m]\u001b[0m, \u001b[1m[\u001b[0m\u001b[1;36m2008\u001b[0m, \u001b[1;36m-0.27\u001b[0m, \u001b[1;36m-0.24\u001b[0m\u001b[1m]\u001b[0m, \u001b[1m[\u001b[0m\u001b[1;36m2009\u001b[0m, \u001b[1;36m-1.0\u001b[0m, \u001b[1;36m-1.0\u001b[0m\u001b[1m]\u001b[0m, \u001b[1m[\u001b[0m\u001b[1;36m2010\u001b[0m, \u001b[1;36m-0\u001b[0m\u001b[33m...\u001b[0m\n",
       "\u001b[1;36m82704\u001b[0m  \u001b[1m[\u001b[0m\u001b[1m[\u001b[0m\u001b[1;36m2002\u001b[0m, \u001b[1;36m-0.12\u001b[0m, \u001b[1;36m-0.3\u001b[0m\u001b[1m]\u001b[0m, \u001b[1m[\u001b[0m\u001b[1;36m2003\u001b[0m, \u001b[1;36m-0.21\u001b[0m, \u001b[1;36m-0.27\u001b[0m\u001b[1m]\u001b[0m, \u001b[1m[\u001b[0m\u001b[1;36m2004\u001b[0m, \u001b[1;36m-0.23\u001b[0m, \u001b[1;36m-0.36\u001b[0m\u001b[1m]\u001b[0m, \u001b[1m[\u001b[0m\u001b[1;36m2005\u001b[0m, \u001b[1;36m-0.39\u001b[0m, \u001b[1;36m-0.41\u001b[0m\u001b[1m]\u001b[0m, \u001b[1m[\u001b[0m\u001b[1;36m2006\u001b[0m, \u001b[1;36m-0.33\u001b[0m, \u001b[1;36m-0.36\u001b[0m\u001b[1m]\u001b[0m, \u001b[1m[\u001b[0m\u001b[1;36m2007\u001b[0m, \u001b[1;36m-0.31\u001b[0m, \u001b[1;36m-0.31\u001b[0m\u001b[1m]\u001b[0m, \u001b[1m[\u001b[0m\u001b[1;36m2008\u001b[0m, \u001b[1;36m-0.45\u001b[0m, \u001b[1;36m-0.35\u001b[0m\u001b[1m]\u001b[0m, \u001b[1m[\u001b[0m\u001b[1;36m2\u001b[0m\u001b[33m...\u001b[0m\n",
       "\n",
       "                                                                                                                                                 author_year_diversity\n",
       "\u001b[1;36m64299\u001b[0m  \u001b[1m[\u001b[0m\u001b[1m[\u001b[0m\u001b[1;36m2002\u001b[0m, \u001b[1;36m0.048\u001b[0m, \u001b[1;36m0.467\u001b[0m, \u001b[1;36m0.547\u001b[0m\u001b[1m]\u001b[0m, \u001b[1m[\u001b[0m\u001b[1;36m2004\u001b[0m, \u001b[1;36m0.048\u001b[0m, \u001b[1;36m0.438\u001b[0m, \u001b[1;36m0.547\u001b[0m\u001b[1m]\u001b[0m, \u001b[1m[\u001b[0m\u001b[1;36m2005\u001b[0m, \u001b[1;36m0.048\u001b[0m, \u001b[1;36m0.419\u001b[0m, \u001b[1;36m0.547\u001b[0m\u001b[1m]\u001b[0m, \u001b[1m[\u001b[0m\u001b[1;36m2006\u001b[0m, \u001b[1;36m0.048\u001b[0m, \u001b[1;36m0.401\u001b[0m, \u001b[1;36m0.547\u001b[0m\u001b[1m]\u001b[0m, \u001b[1m[\u001b[0m\u001b[1;36m2007\u001b[0m, \u001b[1;36m0.052\u001b[0m, \u001b[1;36m0.403\u001b[0m, \u001b[1;36m0.546\u001b[0m\u001b[1m]\u001b[0m, \u001b[1m[\u001b[0m\u001b[1;36m2008\u001b[0m, \u001b[1;36m0.0\u001b[0m\u001b[33m...\u001b[0m\n",
       "\u001b[1;36m41046\u001b[0m  \u001b[1m[\u001b[0m\u001b[1m[\u001b[0m\u001b[1;36m2002\u001b[0m, \u001b[1;36m0.056\u001b[0m, \u001b[1;36m0.311\u001b[0m, \u001b[1;36m0.606\u001b[0m\u001b[1m]\u001b[0m, \u001b[1m[\u001b[0m\u001b[1;36m2003\u001b[0m, \u001b[1;36m0.044\u001b[0m, \u001b[1;36m0.413\u001b[0m, \u001b[1;36m0.585\u001b[0m\u001b[1m]\u001b[0m, \u001b[1m[\u001b[0m\u001b[1;36m2004\u001b[0m, \u001b[1;36m0.056\u001b[0m, \u001b[1;36m0.319\u001b[0m, \u001b[1;36m0.571\u001b[0m\u001b[1m]\u001b[0m, \u001b[1m[\u001b[0m\u001b[1;36m2005\u001b[0m, \u001b[1;36m0.052\u001b[0m, \u001b[1;36m0.312\u001b[0m, \u001b[1;36m0.6\u001b[0m\u001b[1m]\u001b[0m, \u001b[1m[\u001b[0m\u001b[1;36m2006\u001b[0m, \u001b[1;36m0.067\u001b[0m, \u001b[1;36m0.309\u001b[0m, \u001b[1;36m0.619\u001b[0m\u001b[1m]\u001b[0m, \u001b[1m[\u001b[0m\u001b[1;36m2007\u001b[0m, \u001b[1;36m0.067\u001b[0m\u001b[33m...\u001b[0m\n",
       "\u001b[1;36m73710\u001b[0m  \u001b[1m[\u001b[0m\u001b[1m[\u001b[0m\u001b[1;36m2008\u001b[0m, \u001b[1;36m0.048\u001b[0m, \u001b[1;36m0.587\u001b[0m, \u001b[1;36m0.582\u001b[0m\u001b[1m]\u001b[0m, \u001b[1m[\u001b[0m\u001b[1;36m2011\u001b[0m, \u001b[1;36m0.099\u001b[0m, \u001b[1;36m0.416\u001b[0m, \u001b[1;36m0.611\u001b[0m\u001b[1m]\u001b[0m, \u001b[1m[\u001b[0m\u001b[1;36m2012\u001b[0m, \u001b[1;36m0.095\u001b[0m, \u001b[1;36m0.452\u001b[0m, \u001b[1;36m0.621\u001b[0m\u001b[1m]\u001b[0m, \u001b[1m[\u001b[0m\u001b[1;36m2013\u001b[0m, \u001b[1;36m0.099\u001b[0m, \u001b[1;36m0.396\u001b[0m, \u001b[1;36m0.611\u001b[0m\u001b[1m]\u001b[0m, \u001b[1m[\u001b[0m\u001b[1;36m2014\u001b[0m, \u001b[1;36m0.103\u001b[0m, \u001b[1;36m0.374\u001b[0m, \u001b[1;36m0.599\u001b[0m\u001b[1m]\u001b[0m, \u001b[1m[\u001b[0m\u001b[1;36m2015\u001b[0m, \u001b[1;36m0.0\u001b[0m\u001b[33m...\u001b[0m\n",
       "\u001b[1;36m72234\u001b[0m  \u001b[1m[\u001b[0m\u001b[1m[\u001b[0m\u001b[1;36m2002\u001b[0m, \u001b[1;36m0.012\u001b[0m, \u001b[1;36m1.0\u001b[0m, \u001b[1;36m0.552\u001b[0m\u001b[1m]\u001b[0m, \u001b[1m[\u001b[0m\u001b[1;36m2014\u001b[0m, \u001b[1;36m0.008\u001b[0m, \u001b[1;36m0.625\u001b[0m, \u001b[1;36m0.567\u001b[0m\u001b[1m]\u001b[0m, \u001b[1m[\u001b[0m\u001b[1;36m2015\u001b[0m, \u001b[1;36m0.012\u001b[0m, \u001b[1;36m0.565\u001b[0m, \u001b[1;36m0.596\u001b[0m\u001b[1m]\u001b[0m, \u001b[1m[\u001b[0m\u001b[1;36m2018\u001b[0m, \u001b[1;36m0.012\u001b[0m, \u001b[1;36m0.284\u001b[0m, \u001b[1;36m0.474\u001b[0m\u001b[1m]\u001b[0m, \u001b[1m[\u001b[0m\u001b[1;36m2019\u001b[0m, \u001b[1;36m0.016\u001b[0m, \u001b[1;36m0.435\u001b[0m, \u001b[1;36m0.501\u001b[0m\u001b[1m]\u001b[0m, \u001b[1m[\u001b[0m\u001b[1;36m2020\u001b[0m, \u001b[1;36m0.008\u001b[0m\u001b[33m...\u001b[0m\n",
       "\u001b[1;36m82799\u001b[0m                                                                                                                                                             \u001b[3;35mNone\u001b[0m\n",
       "\u001b[1;36m66287\u001b[0m  \u001b[1m[\u001b[0m\u001b[1m[\u001b[0m\u001b[1;36m2006\u001b[0m, \u001b[1;36m0.016\u001b[0m, \u001b[1;36m0.4\u001b[0m, \u001b[1;36m0.598\u001b[0m\u001b[1m]\u001b[0m, \u001b[1m[\u001b[0m\u001b[1;36m2008\u001b[0m, \u001b[1;36m0.016\u001b[0m, \u001b[1;36m0.549\u001b[0m, \u001b[1;36m0.598\u001b[0m\u001b[1m]\u001b[0m, \u001b[1m[\u001b[0m\u001b[1;36m2009\u001b[0m, \u001b[1;36m0.016\u001b[0m, \u001b[1;36m0.607\u001b[0m, \u001b[1;36m0.598\u001b[0m\u001b[1m]\u001b[0m, \u001b[1m[\u001b[0m\u001b[1;36m2010\u001b[0m, \u001b[1;36m0.016\u001b[0m, \u001b[1;36m0.596\u001b[0m, \u001b[1;36m0.598\u001b[0m\u001b[1m]\u001b[0m, \u001b[1m[\u001b[0m\u001b[1;36m2011\u001b[0m, \u001b[1;36m0.02\u001b[0m, \u001b[1;36m0.534\u001b[0m, \u001b[1;36m0.582\u001b[0m\u001b[1m]\u001b[0m, \u001b[1m[\u001b[0m\u001b[1;36m2012\u001b[0m, \u001b[1;36m0.02\u001b[0m, \u001b[33m...\u001b[0m\n",
       "\u001b[1;36m39065\u001b[0m  \u001b[1m[\u001b[0m\u001b[1m[\u001b[0m\u001b[1;36m2002\u001b[0m, \u001b[1;36m0.063\u001b[0m, \u001b[1;36m0.375\u001b[0m, \u001b[1;36m0.587\u001b[0m\u001b[1m]\u001b[0m, \u001b[1m[\u001b[0m\u001b[1;36m2004\u001b[0m, \u001b[1;36m0.075\u001b[0m, \u001b[1;36m0.232\u001b[0m, \u001b[1;36m0.612\u001b[0m\u001b[1m]\u001b[0m, \u001b[1m[\u001b[0m\u001b[1;36m2005\u001b[0m, \u001b[1;36m0.087\u001b[0m, \u001b[1;36m0.177\u001b[0m, \u001b[1;36m0.593\u001b[0m\u001b[1m]\u001b[0m, \u001b[1m[\u001b[0m\u001b[1;36m2006\u001b[0m, \u001b[1;36m0.095\u001b[0m, \u001b[1;36m0.145\u001b[0m, \u001b[1;36m0.598\u001b[0m\u001b[1m]\u001b[0m, \u001b[1m[\u001b[0m\u001b[1;36m2007\u001b[0m, \u001b[1;36m0.103\u001b[0m, \u001b[1;36m0.231\u001b[0m, \u001b[1;36m0.591\u001b[0m\u001b[1m]\u001b[0m, \u001b[1m[\u001b[0m\u001b[1;36m2008\u001b[0m, \u001b[1;36m0.1\u001b[0m\u001b[33m...\u001b[0m\n",
       "\u001b[1;36m62927\u001b[0m  \u001b[1m[\u001b[0m\u001b[1m[\u001b[0m\u001b[1;36m2002\u001b[0m, \u001b[1;36m0.087\u001b[0m, \u001b[1;36m0.498\u001b[0m, \u001b[1;36m0.586\u001b[0m\u001b[1m]\u001b[0m, \u001b[1m[\u001b[0m\u001b[1;36m2003\u001b[0m, \u001b[1;36m0.083\u001b[0m, \u001b[1;36m0.483\u001b[0m, \u001b[1;36m0.58\u001b[0m\u001b[1m]\u001b[0m, \u001b[1m[\u001b[0m\u001b[1;36m2004\u001b[0m, \u001b[1;36m0.075\u001b[0m, \u001b[1;36m0.481\u001b[0m, \u001b[1;36m0.589\u001b[0m\u001b[1m]\u001b[0m, \u001b[1m[\u001b[0m\u001b[1;36m2005\u001b[0m, \u001b[1;36m0.079\u001b[0m, \u001b[1;36m0.462\u001b[0m, \u001b[1;36m0.58\u001b[0m\u001b[1m]\u001b[0m, \u001b[1m[\u001b[0m\u001b[1;36m2006\u001b[0m, \u001b[1;36m0.079\u001b[0m, \u001b[1;36m0.45\u001b[0m, \u001b[1;36m0.571\u001b[0m\u001b[1m]\u001b[0m, \u001b[1m[\u001b[0m\u001b[1;36m2007\u001b[0m, \u001b[1;36m0.083\u001b[0m,\u001b[33m...\u001b[0m\n",
       "\u001b[1;36m38282\u001b[0m  \u001b[1m[\u001b[0m\u001b[1m[\u001b[0m\u001b[1;36m2002\u001b[0m, \u001b[1;36m0.032\u001b[0m, \u001b[1;36m0.28\u001b[0m, \u001b[1;36m0.53\u001b[0m\u001b[1m]\u001b[0m, \u001b[1m[\u001b[0m\u001b[1;36m2004\u001b[0m, \u001b[1;36m0.036\u001b[0m, \u001b[1;36m0.245\u001b[0m, \u001b[1;36m0.574\u001b[0m\u001b[1m]\u001b[0m, \u001b[1m[\u001b[0m\u001b[1;36m2005\u001b[0m, \u001b[1;36m0.048\u001b[0m, \u001b[1;36m0.19\u001b[0m, \u001b[1;36m0.574\u001b[0m\u001b[1m]\u001b[0m, \u001b[1m[\u001b[0m\u001b[1;36m2006\u001b[0m, \u001b[1;36m0.044\u001b[0m, \u001b[1;36m0.204\u001b[0m, \u001b[1;36m0.565\u001b[0m\u001b[1m]\u001b[0m, \u001b[1m[\u001b[0m\u001b[1;36m2007\u001b[0m, \u001b[1;36m0.044\u001b[0m, \u001b[1;36m0.209\u001b[0m, \u001b[1;36m0.565\u001b[0m\u001b[1m]\u001b[0m, \u001b[1m[\u001b[0m\u001b[1;36m2008\u001b[0m, \u001b[1;36m0.052\u001b[0m,\u001b[33m...\u001b[0m\n",
       "\u001b[1;36m82704\u001b[0m  \u001b[1m[\u001b[0m\u001b[1m[\u001b[0m\u001b[1;36m2002\u001b[0m, \u001b[1;36m0.052\u001b[0m, \u001b[1;36m0.469\u001b[0m, \u001b[1;36m0.608\u001b[0m\u001b[1m]\u001b[0m, \u001b[1m[\u001b[0m\u001b[1;36m2003\u001b[0m, \u001b[1;36m0.052\u001b[0m, \u001b[1;36m0.459\u001b[0m, \u001b[1;36m0.616\u001b[0m\u001b[1m]\u001b[0m, \u001b[1m[\u001b[0m\u001b[1;36m2004\u001b[0m, \u001b[1;36m0.06\u001b[0m, \u001b[1;36m0.422\u001b[0m, \u001b[1;36m0.604\u001b[0m\u001b[1m]\u001b[0m, \u001b[1m[\u001b[0m\u001b[1;36m2005\u001b[0m, \u001b[1;36m0.083\u001b[0m, \u001b[1;36m0.332\u001b[0m, \u001b[1;36m0.608\u001b[0m\u001b[1m]\u001b[0m, \u001b[1m[\u001b[0m\u001b[1;36m2006\u001b[0m, \u001b[1;36m0.099\u001b[0m, \u001b[1;36m0.316\u001b[0m, \u001b[1;36m0.604\u001b[0m\u001b[1m]\u001b[0m, \u001b[1m[\u001b[0m\u001b[1;36m2007\u001b[0m, \u001b[1;36m0.10\u001b[0m\u001b[33m...\u001b[0m"
      ]
     },
     "metadata": {},
     "output_type": "display_data"
    }
   ],
   "source": [
    "# | code-fold: true\n",
    "print(\"Example Complex Metrics TS data:\")\n",
    "complex_metrics_cols = [\n",
    "    \"oa_id\",\n",
    "    \"display_name\",\n",
    "    \"author_year_disruption\",\n",
    "    \"author_year_diversity\",\n",
    "]\n",
    "display(final_metrics[complex_metrics_cols].sample(10, random_state=42))"
   ]
  }
 ],
 "metadata": {
  "kernelspec": {
   "display_name": ".dsit_whoswho",
   "language": "python",
   "name": "python3"
  },
  "language_info": {
   "codemirror_mode": {
    "name": "ipython",
    "version": 3
   },
   "file_extension": ".py",
   "mimetype": "text/x-python",
   "name": "python",
   "nbconvert_exporter": "python",
   "pygments_lexer": "ipython3",
   "version": "3.13.2"
  }
 },
 "nbformat": 4,
 "nbformat_minor": 2
}
